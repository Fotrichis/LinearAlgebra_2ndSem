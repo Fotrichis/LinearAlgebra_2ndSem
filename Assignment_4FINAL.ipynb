{
  "nbformat": 4,
  "nbformat_minor": 0,
  "metadata": {
    "colab": {
      "name": "Assignment 4.ipynb",
      "provenance": [],
      "collapsed_sections": [],
      "authorship_tag": "ABX9TyNiOLASHRph0YnFKh3QgTkl",
      "include_colab_link": true
    },
    "kernelspec": {
      "name": "python3",
      "display_name": "Python 3"
    },
    "language_info": {
      "name": "python"
    }
  },
  "cells": [
    {
      "cell_type": "markdown",
      "metadata": {
        "id": "view-in-github",
        "colab_type": "text"
      },
      "source": [
        "<a href=\"https://colab.research.google.com/github/Fotrichis/LinearAlgebra_2ndSem/blob/main/Assignment_4FINAL.ipynb\" target=\"_parent\"><img src=\"https://colab.research.google.com/assets/colab-badge.svg\" alt=\"Open In Colab\"/></a>"
      ]
    },
    {
      "cell_type": "markdown",
      "source": [
        "# Linear Algebra\n",
        "## Laboratory 6 : Matrix Operations"
      ],
      "metadata": {
        "id": "s1Pju6bN8dEV"
      }
    },
    {
      "cell_type": "markdown",
      "source": [
        "### Objectives\n",
        "At the end of this activity you will be able to:\n",
        "1. Be familiar with the fundamental matrix operations.\n",
        "2. Apply the operations to solve intemrediate equations.\n",
        "3. Apply matrix algebra in engineering solutions."
      ],
      "metadata": {
        "id": "ZXrEDs1D8foG"
      }
    },
    {
      "cell_type": "markdown",
      "source": [
        "## Discussion"
      ],
      "metadata": {
        "id": "k4jECdlx8lm0"
      }
    },
    {
      "cell_type": "code",
      "source": [
        "import numpy as np\n",
        "import matplotlib.pyplot as plt\n",
        "%matplotlib inline\n"
      ],
      "metadata": {
        "id": "_81oPYbB8pc2"
      },
      "execution_count": 16,
      "outputs": []
    },
    {
      "cell_type": "markdown",
      "source": [
        "## Transposition"
      ],
      "metadata": {
        "id": "YMgcY-sb8sis"
      }
    },
    {
      "cell_type": "markdown",
      "source": [
        "One of the fundamental operations in matrix algebra is Transposition. The transpose of a matrix is done by flipping the values of its elements over its diagonals. With this, the rows and columns from the original matrix will be switched. So for a matrix $A$ its transpose is denoted as $A^T$. So for example:"
      ],
      "metadata": {
        "id": "z-pyO8NvI-R_"
      }
    },
    {
      "cell_type": "markdown",
      "source": [
        "$$A = \\begin{bmatrix} 1 & 2 & 5\\\\5 & -1 &0 \\\\ 0 & -3 & 3\\end{bmatrix} $$"
      ],
      "metadata": {
        "id": "p3U3zO97JA7d"
      }
    },
    {
      "cell_type": "markdown",
      "source": [
        "$$ A^T = \\begin{bmatrix} 1 & 5 & 0\\\\2 & -1 &-3 \\\\ 5 & 0 & 3\\end{bmatrix}$$"
      ],
      "metadata": {
        "id": "fh1c6IeTJB3M"
      }
    },
    {
      "cell_type": "markdown",
      "source": [
        "This can now be achieved programmatically by using `np.transpose()` or using the `T` method.Description"
      ],
      "metadata": {
        "id": "VVTg0wpT88lM"
      }
    },
    {
      "cell_type": "code",
      "source": [
        "A = np.array([\n",
        "    [1, 2, 5],\n",
        "    [5, -1, 0],\n",
        "    [0, -3, 3]\n",
        "])\n",
        "A"
      ],
      "metadata": {
        "colab": {
          "base_uri": "https://localhost:8080/"
        },
        "id": "4f8IP_wv9qhQ",
        "outputId": "a7fc82c6-ea5a-47f1-ed80-f169e3479354"
      },
      "execution_count": 17,
      "outputs": [
        {
          "output_type": "execute_result",
          "data": {
            "text/plain": [
              "array([[ 1,  2,  5],\n",
              "       [ 5, -1,  0],\n",
              "       [ 0, -3,  3]])"
            ]
          },
          "metadata": {},
          "execution_count": 17
        }
      ]
    },
    {
      "cell_type": "code",
      "source": [
        "AT1 = np.transpose(A)\n",
        "AT1"
      ],
      "metadata": {
        "colab": {
          "base_uri": "https://localhost:8080/"
        },
        "id": "6DTiyZP593cV",
        "outputId": "c8bd06f6-ce1c-409c-a47a-9a0efdf28e71"
      },
      "execution_count": 18,
      "outputs": [
        {
          "output_type": "execute_result",
          "data": {
            "text/plain": [
              "array([[ 1,  5,  0],\n",
              "       [ 2, -1, -3],\n",
              "       [ 5,  0,  3]])"
            ]
          },
          "metadata": {},
          "execution_count": 18
        }
      ]
    },
    {
      "cell_type": "code",
      "source": [
        "AT2 = A.T\n",
        "AT2"
      ],
      "metadata": {
        "colab": {
          "base_uri": "https://localhost:8080/"
        },
        "id": "VmY1jwpq-tS1",
        "outputId": "8772034d-31ed-46ff-eb99-166f532a3513"
      },
      "execution_count": 19,
      "outputs": [
        {
          "output_type": "execute_result",
          "data": {
            "text/plain": [
              "array([[ 1,  5,  0],\n",
              "       [ 2, -1, -3],\n",
              "       [ 5,  0,  3]])"
            ]
          },
          "metadata": {},
          "execution_count": 19
        }
      ]
    },
    {
      "cell_type": "code",
      "source": [
        "np.array_equiv(AT1, AT2)"
      ],
      "metadata": {
        "colab": {
          "base_uri": "https://localhost:8080/"
        },
        "id": "MD93sSTe-0th",
        "outputId": "df5305ab-9e70-4680-a17d-9a00aeee67b7"
      },
      "execution_count": 20,
      "outputs": [
        {
          "output_type": "execute_result",
          "data": {
            "text/plain": [
              "True"
            ]
          },
          "metadata": {},
          "execution_count": 20
        }
      ]
    },
    {
      "cell_type": "code",
      "source": [
        "B = np.array([\n",
        "    [2, 3, 5, 7],\n",
        "    [5, 2, 1, 2],\n",
        "    [3, 1, 2, 1]\n",
        "])\n",
        "B.shape"
      ],
      "metadata": {
        "colab": {
          "base_uri": "https://localhost:8080/"
        },
        "id": "KdO0BEwK_C1Y",
        "outputId": "49b6d206-cc51-471e-cb9c-a995a89cdce8"
      },
      "execution_count": 21,
      "outputs": [
        {
          "output_type": "execute_result",
          "data": {
            "text/plain": [
              "(3, 4)"
            ]
          },
          "metadata": {},
          "execution_count": 21
        }
      ]
    },
    {
      "cell_type": "code",
      "source": [
        "np.transpose(B).shape"
      ],
      "metadata": {
        "colab": {
          "base_uri": "https://localhost:8080/"
        },
        "id": "Bse0sw4X_v6y",
        "outputId": "0d2d0185-9404-42a9-b673-daf39adcf492"
      },
      "execution_count": 22,
      "outputs": [
        {
          "output_type": "execute_result",
          "data": {
            "text/plain": [
              "(4, 3)"
            ]
          },
          "metadata": {},
          "execution_count": 22
        }
      ]
    },
    {
      "cell_type": "code",
      "source": [
        "B.T.shape"
      ],
      "metadata": {
        "colab": {
          "base_uri": "https://localhost:8080/"
        },
        "id": "jwst3EpO_zwU",
        "outputId": "f20a152f-50dc-4646-87b8-b5f8b2b20848"
      },
      "execution_count": 23,
      "outputs": [
        {
          "output_type": "execute_result",
          "data": {
            "text/plain": [
              "(4, 3)"
            ]
          },
          "metadata": {},
          "execution_count": 23
        }
      ]
    },
    {
      "cell_type": "markdown",
      "source": [
        "Own Matrix Transposition"
      ],
      "metadata": {
        "id": "4UB0PQyMpMDp"
      }
    },
    {
      "cell_type": "code",
      "source": [
        "A = np.array([\n",
        "    [5,3,6],\n",
        "    [1,0,3],\n",
        "    [1,6,1],\n",
        "    [2,1,3],\n",
        "])\n",
        "A.shape"
      ],
      "metadata": {
        "colab": {
          "base_uri": "https://localhost:8080/"
        },
        "id": "ChhQ8WLwpPU3",
        "outputId": "6f367784-3146-46e6-aa51-f55743a2f864"
      },
      "execution_count": 24,
      "outputs": [
        {
          "output_type": "execute_result",
          "data": {
            "text/plain": [
              "(4, 3)"
            ]
          },
          "metadata": {},
          "execution_count": 24
        }
      ]
    },
    {
      "cell_type": "code",
      "source": [
        "np.transpose(A).shape"
      ],
      "metadata": {
        "colab": {
          "base_uri": "https://localhost:8080/"
        },
        "id": "b2i7KEoNpZvG",
        "outputId": "c9d65a7e-6977-4db4-83bd-d703701097fe"
      },
      "execution_count": 25,
      "outputs": [
        {
          "output_type": "execute_result",
          "data": {
            "text/plain": [
              "(3, 4)"
            ]
          },
          "metadata": {},
          "execution_count": 25
        }
      ]
    },
    {
      "cell_type": "code",
      "source": [
        "AT = A.T\n",
        "AT"
      ],
      "metadata": {
        "colab": {
          "base_uri": "https://localhost:8080/"
        },
        "id": "xXfWz3FxpdWr",
        "outputId": "54732f18-8500-4afb-b357-581af7ef164d"
      },
      "execution_count": 26,
      "outputs": [
        {
          "output_type": "execute_result",
          "data": {
            "text/plain": [
              "array([[5, 1, 1, 2],\n",
              "       [3, 0, 6, 1],\n",
              "       [6, 3, 1, 3]])"
            ]
          },
          "metadata": {},
          "execution_count": 26
        }
      ]
    },
    {
      "cell_type": "markdown",
      "source": [
        "## Dot Product / Inner Product"
      ],
      "metadata": {
        "id": "qcn2g93ZAXe8"
      }
    },
    {
      "cell_type": "markdown",
      "source": [
        "If you recall the dot product from laboratory activity before, we will try to implement the same operation with matrices. In matrix dot product we are going to get the sum of products of the vectors by row-column pairs. So if we have two matrices $X$ and $Y$:\n",
        "\n",
        "$$X = \\begin{bmatrix}x_{(0,0)}&x_{(0,1)}\\\\ x_{(1,0)}&x_{(1,1)}\\end{bmatrix}, Y = \\begin{bmatrix}y_{(0,0)}&y_{(0,1)}\\\\ y_{(1,0)}&y_{(1,1)}\\end{bmatrix}$$\n",
        "\n",
        "The dot product will then be computed as:\n",
        "$$X \\cdot Y= \\begin{bmatrix} x_{(0,0)}*y_{(0,0)} + x_{(0,1)}*y_{(1,0)} & x_{(0,0)}*y_{(0,1)} + x_{(0,1)}*y_{(1,1)} \\\\  x_{(1,0)}*y_{(0,0)} + x_{(1,1)}*y_{(1,0)} & x_{(1,0)}*y_{(0,1)} + x_{(1,1)}*y_{(1,1)}\n",
        "\\end{bmatrix}$$\n",
        "\n",
        "So if we assign values to $X$ and $Y$:\n",
        "$$X = \\begin{bmatrix}1&2\\\\ 0&1\\end{bmatrix}, Y = \\begin{bmatrix}-1&0\\\\ 2&2\\end{bmatrix}$$"
      ],
      "metadata": {
        "id": "48fNgVGeJRA5"
      }
    },
    {
      "cell_type": "markdown",
      "source": [
        "$$X \\cdot Y= \\begin{bmatrix} 1*-1 + 2*2 & 1*0 + 2*2 \\\\  0*-1 + 1*2 & 0*0 + 1*2 \\end{bmatrix} = \\begin{bmatrix} 3 & 4 \\\\2 & 2 \\end{bmatrix}$$\n",
        "This could be achieved programmatically using `np.dot()`, `np.matmul()` or the `@` operator."
      ],
      "metadata": {
        "id": "tlFBGLt4JZxG"
      }
    },
    {
      "cell_type": "code",
      "source": [
        "X = np.array([\n",
        "    [1, 2, 3],\n",
        "    [0, 1, 2],\n",
        "    [1, 3, 2]\n",
        "])\n",
        "Y = np.array([\n",
        "    [3, 2, 1],\n",
        "    [2, 1, 0],\n",
        "    [2, 3, 1]\n",
        "])"
      ],
      "metadata": {
        "id": "fVLjHi38A1nc"
      },
      "execution_count": 27,
      "outputs": []
    },
    {
      "cell_type": "code",
      "source": [
        "np.dot(X,Y)"
      ],
      "metadata": {
        "colab": {
          "base_uri": "https://localhost:8080/"
        },
        "id": "I1xxf0QICENj",
        "outputId": "a225d11b-dff9-4d21-b69e-17005dd7a043"
      },
      "execution_count": 28,
      "outputs": [
        {
          "output_type": "execute_result",
          "data": {
            "text/plain": [
              "array([[13, 13,  4],\n",
              "       [ 6,  7,  2],\n",
              "       [13, 11,  3]])"
            ]
          },
          "metadata": {},
          "execution_count": 28
        }
      ]
    },
    {
      "cell_type": "code",
      "source": [
        "X.dot(Y)"
      ],
      "metadata": {
        "colab": {
          "base_uri": "https://localhost:8080/"
        },
        "id": "Gli_wYzeCHhw",
        "outputId": "630c1123-ce01-4609-b0fc-233926e0b93d"
      },
      "execution_count": 29,
      "outputs": [
        {
          "output_type": "execute_result",
          "data": {
            "text/plain": [
              "array([[13, 13,  4],\n",
              "       [ 6,  7,  2],\n",
              "       [13, 11,  3]])"
            ]
          },
          "metadata": {},
          "execution_count": 29
        }
      ]
    },
    {
      "cell_type": "code",
      "source": [
        "X @ Y"
      ],
      "metadata": {
        "colab": {
          "base_uri": "https://localhost:8080/"
        },
        "id": "qNZqEA3LCLtb",
        "outputId": "b09a087c-3791-470a-e315-8f0c2737e799"
      },
      "execution_count": 30,
      "outputs": [
        {
          "output_type": "execute_result",
          "data": {
            "text/plain": [
              "array([[13, 13,  4],\n",
              "       [ 6,  7,  2],\n",
              "       [13, 11,  3]])"
            ]
          },
          "metadata": {},
          "execution_count": 30
        }
      ]
    },
    {
      "cell_type": "code",
      "source": [
        "np.matmul(X,Y)"
      ],
      "metadata": {
        "colab": {
          "base_uri": "https://localhost:8080/"
        },
        "id": "cZ65jKftCOVd",
        "outputId": "67110ccf-9535-412a-b475-c20dd9937801"
      },
      "execution_count": 31,
      "outputs": [
        {
          "output_type": "execute_result",
          "data": {
            "text/plain": [
              "array([[13, 13,  4],\n",
              "       [ 6,  7,  2],\n",
              "       [13, 11,  3]])"
            ]
          },
          "metadata": {},
          "execution_count": 31
        }
      ]
    },
    {
      "cell_type": "code",
      "source": [
        "A = np.array([\n",
        "    [2,1,3],\n",
        "    [1,1,1],\n",
        "    [2,3,3]\n",
        "])\n",
        "B = np.array([\n",
        "    [3,3,1],\n",
        "    [1,1,1],\n",
        "    [2,1,4]\n",
        "])"
      ],
      "metadata": {
        "id": "y2rVrBMapqS4"
      },
      "execution_count": 32,
      "outputs": []
    },
    {
      "cell_type": "code",
      "source": [
        "A @ B"
      ],
      "metadata": {
        "colab": {
          "base_uri": "https://localhost:8080/"
        },
        "id": "PyrUoIfIp8U6",
        "outputId": "f242b8f4-223a-4efe-fe38-e0e636d64696"
      },
      "execution_count": 33,
      "outputs": [
        {
          "output_type": "execute_result",
          "data": {
            "text/plain": [
              "array([[13, 10, 15],\n",
              "       [ 6,  5,  6],\n",
              "       [15, 12, 17]])"
            ]
          },
          "metadata": {},
          "execution_count": 33
        }
      ]
    },
    {
      "cell_type": "code",
      "source": [
        "A.dot(B)"
      ],
      "metadata": {
        "colab": {
          "base_uri": "https://localhost:8080/"
        },
        "id": "lrqulSX7p9uW",
        "outputId": "f263a66e-0320-44ef-ef13-ef02bf87881d"
      },
      "execution_count": 34,
      "outputs": [
        {
          "output_type": "execute_result",
          "data": {
            "text/plain": [
              "array([[13, 10, 15],\n",
              "       [ 6,  5,  6],\n",
              "       [15, 12, 17]])"
            ]
          },
          "metadata": {},
          "execution_count": 34
        }
      ]
    },
    {
      "cell_type": "code",
      "source": [
        "np.matmul(A,B)"
      ],
      "metadata": {
        "colab": {
          "base_uri": "https://localhost:8080/"
        },
        "id": "gYl_Fv6NqBm2",
        "outputId": "25c9a7fd-0930-426a-c464-9eeb09e2ff3e"
      },
      "execution_count": 35,
      "outputs": [
        {
          "output_type": "execute_result",
          "data": {
            "text/plain": [
              "array([[13, 10, 15],\n",
              "       [ 6,  5,  6],\n",
              "       [15, 12, 17]])"
            ]
          },
          "metadata": {},
          "execution_count": 35
        }
      ]
    },
    {
      "cell_type": "code",
      "source": [
        "np.dot(A,B)"
      ],
      "metadata": {
        "colab": {
          "base_uri": "https://localhost:8080/"
        },
        "id": "_zJMEt3lqEgP",
        "outputId": "26391109-db1c-4895-e135-f2dcb0550d1b"
      },
      "execution_count": 36,
      "outputs": [
        {
          "output_type": "execute_result",
          "data": {
            "text/plain": [
              "array([[13, 10, 15],\n",
              "       [ 6,  5,  6],\n",
              "       [15, 12, 17]])"
            ]
          },
          "metadata": {},
          "execution_count": 36
        }
      ]
    },
    {
      "cell_type": "markdown",
      "source": [
        "In matrix dot products there are additional rules compared with vector dot products. Since vector dot products were just in one dimension there are less restrictions. Since now we are dealing with Rank 2 vectors we need to consider some rules:"
      ],
      "metadata": {
        "id": "WSRwXoqgJxFk"
      }
    },
    {
      "cell_type": "markdown",
      "source": [
        "## Rule 1: The inner dimensions of the two matrices in question must be the same.\n",
        "\n",
        "So given a matrix $A$ with a shape of $(a,b)$ where $a$ and $b$ are any integers. If we want to do a dot product between $A$ and another matrix $B$, then matrix $B$ should have a shape of $(b,c)$ where $b$ and $c$ are any integers. So for given the following matrices:\n",
        "\n",
        "$$E = \\begin{bmatrix}1&2&3\\\\3&3&1\\\\2&1&3\\end{bmatrix}, F = \\begin{bmatrix}1&3&1\\\\2&1&1\\\\1&1&2\\\\2&2&1\\end{bmatrix}, G = \\begin{bmatrix}2&2&3\\\\1&2&2\\\\2&1&3\\end{bmatrix}$$\n",
        "\n",
        "So in this case $A$ has a shape of $(3,2)$, $B$ has a shape of $(3,2)$ and $C$ has a shape of $(2,3)$. So the only matrix pairs that is eligible to perform dot product is matrices $A \\cdot C$, or $B \\cdot C$.  "
      ],
      "metadata": {
        "id": "MSU_a9WYCy4d"
      }
    },
    {
      "cell_type": "code",
      "source": [
        "E = np.array([\n",
        "    [1, 2, 3],\n",
        "    [3, 3, 1],\n",
        "    [2, 1, 3]\n",
        "])\n",
        "F = np.array([\n",
        "    [1, 3, 1],\n",
        "    [2, 1, 1],\n",
        "    [1, 1, 2],\n",
        "    [2, 2, 1]\n",
        "])\n",
        "G = np.array([\n",
        "    [2, 2, 3],\n",
        "    [1, 2, 2],\n",
        "    [2, 1, 3]  \n",
        "])\n",
        "print(E.shape)\n",
        "print(F.shape)\n",
        "print(G.shape)"
      ],
      "metadata": {
        "colab": {
          "base_uri": "https://localhost:8080/"
        },
        "id": "ITjRvIobC_NN",
        "outputId": "c16e824d-8e9a-4327-a112-fa1a2a7cd8f6"
      },
      "execution_count": 37,
      "outputs": [
        {
          "output_type": "stream",
          "name": "stdout",
          "text": [
            "(3, 3)\n",
            "(4, 3)\n",
            "(3, 3)\n"
          ]
        }
      ]
    },
    {
      "cell_type": "code",
      "source": [
        "E @ G"
      ],
      "metadata": {
        "colab": {
          "base_uri": "https://localhost:8080/"
        },
        "id": "Q2CNsxNZFO_L",
        "outputId": "cb7ab476-260f-4044-9f6c-cfea04af115f"
      },
      "execution_count": 38,
      "outputs": [
        {
          "output_type": "execute_result",
          "data": {
            "text/plain": [
              "array([[10,  9, 16],\n",
              "       [11, 13, 18],\n",
              "       [11,  9, 17]])"
            ]
          },
          "metadata": {},
          "execution_count": 38
        }
      ]
    },
    {
      "cell_type": "code",
      "source": [
        "F @ G"
      ],
      "metadata": {
        "colab": {
          "base_uri": "https://localhost:8080/"
        },
        "id": "RlrjObE-FpAB",
        "outputId": "c132a0c2-4157-41f8-b5f2-9f76ffb2bd45"
      },
      "execution_count": 39,
      "outputs": [
        {
          "output_type": "execute_result",
          "data": {
            "text/plain": [
              "array([[ 7,  9, 12],\n",
              "       [ 7,  7, 11],\n",
              "       [ 7,  6, 11],\n",
              "       [ 8,  9, 13]])"
            ]
          },
          "metadata": {},
          "execution_count": 39
        }
      ]
    },
    {
      "cell_type": "code",
      "source": [
        "E @ F.T"
      ],
      "metadata": {
        "colab": {
          "base_uri": "https://localhost:8080/"
        },
        "id": "RwlL2rJMrr0u",
        "outputId": "9a563474-0ab0-403e-cb2c-7c01a3967639"
      },
      "execution_count": 40,
      "outputs": [
        {
          "output_type": "execute_result",
          "data": {
            "text/plain": [
              "array([[10,  7,  9,  9],\n",
              "       [13, 10,  8, 13],\n",
              "       [ 8,  8,  9,  9]])"
            ]
          },
          "metadata": {},
          "execution_count": 40
        }
      ]
    },
    {
      "cell_type": "code",
      "source": [
        "H = np.array([\n",
        "    [1,2,3,4]\n",
        "])\n",
        "I = np.array([\n",
        "    [1,3,4,1]\n",
        "])\n",
        "print (H.shape)\n",
        "print (I.shape)"
      ],
      "metadata": {
        "colab": {
          "base_uri": "https://localhost:8080/"
        },
        "id": "sK-lORnor2B1",
        "outputId": "23192e3a-75fd-428e-edd0-055f8acb0db1"
      },
      "execution_count": 41,
      "outputs": [
        {
          "output_type": "stream",
          "name": "stdout",
          "text": [
            "(1, 4)\n",
            "(1, 4)\n"
          ]
        }
      ]
    },
    {
      "cell_type": "code",
      "source": [
        "I.T @ H"
      ],
      "metadata": {
        "colab": {
          "base_uri": "https://localhost:8080/"
        },
        "id": "BDSLqMIEsInC",
        "outputId": "78579902-5b59-49b6-f467-a1f436ebb984"
      },
      "execution_count": 42,
      "outputs": [
        {
          "output_type": "execute_result",
          "data": {
            "text/plain": [
              "array([[ 1,  2,  3,  4],\n",
              "       [ 3,  6,  9, 12],\n",
              "       [ 4,  8, 12, 16],\n",
              "       [ 1,  2,  3,  4]])"
            ]
          },
          "metadata": {},
          "execution_count": 42
        }
      ]
    },
    {
      "cell_type": "code",
      "source": [
        "H @ I.T"
      ],
      "metadata": {
        "colab": {
          "base_uri": "https://localhost:8080/"
        },
        "id": "X_sh0P7UsMas",
        "outputId": "9d6aae9d-df67-40a3-8d21-c7c2d2250c65"
      },
      "execution_count": 43,
      "outputs": [
        {
          "output_type": "execute_result",
          "data": {
            "text/plain": [
              "array([[23]])"
            ]
          },
          "metadata": {},
          "execution_count": 43
        }
      ]
    },
    {
      "cell_type": "markdown",
      "source": [
        "### Rule 2: Dot Product has special properties\n",
        "\n",
        "Dot products are prevalent in matrix algebra, this implies that it has several unique properties and it should be considered when formulation solutions:\n",
        " 1. $A \\cdot B \\neq B \\cdot A$\n",
        " 2. $A \\cdot (B \\cdot C) = (A \\cdot B) \\cdot C$\n",
        " 3. $A\\cdot(B+C) = A\\cdot B + A\\cdot C$\n",
        " 4. $(B+C)\\cdot A = B\\cdot A + C\\cdot A$\n",
        " 5. $A\\cdot I = A$\n",
        " 6. $A\\cdot \\emptyset = \\emptyset$ "
      ],
      "metadata": {
        "id": "j6NTsxqRGaii"
      }
    },
    {
      "cell_type": "code",
      "source": [
        "A = np.array([\n",
        "    [3,2,1],\n",
        "    [4,5,1],\n",
        "    [1,1,0]\n",
        "])\n",
        "B = np.array([\n",
        "    [4,1,6],\n",
        "    [4,1,9],\n",
        "    [1,4,8]\n",
        "])\n",
        "C = np.array([\n",
        "    [1,1,0],\n",
        "    [0,1,1],\n",
        "    [1,0,1]\n",
        "])"
      ],
      "metadata": {
        "id": "GRRrFWZWGf_7"
      },
      "execution_count": 44,
      "outputs": []
    },
    {
      "cell_type": "code",
      "source": [
        "A.dot(np.zeros(A.shape))"
      ],
      "metadata": {
        "id": "Rl6ZMgjQKdQJ",
        "colab": {
          "base_uri": "https://localhost:8080/"
        },
        "outputId": "b59eac75-3fc4-4b61-cb83-49b3beb427d3"
      },
      "execution_count": 45,
      "outputs": [
        {
          "output_type": "execute_result",
          "data": {
            "text/plain": [
              "array([[0., 0., 0.],\n",
              "       [0., 0., 0.],\n",
              "       [0., 0., 0.]])"
            ]
          },
          "metadata": {},
          "execution_count": 45
        }
      ]
    },
    {
      "cell_type": "code",
      "source": [
        "z_mat = np.zeros(A.shape)\n",
        "z_mat"
      ],
      "metadata": {
        "id": "Fvw-xyxTKfa_",
        "colab": {
          "base_uri": "https://localhost:8080/"
        },
        "outputId": "ad199f47-e366-4886-ed31-e1d1cc1ae487"
      },
      "execution_count": 46,
      "outputs": [
        {
          "output_type": "execute_result",
          "data": {
            "text/plain": [
              "array([[0., 0., 0.],\n",
              "       [0., 0., 0.],\n",
              "       [0., 0., 0.]])"
            ]
          },
          "metadata": {},
          "execution_count": 46
        }
      ]
    },
    {
      "cell_type": "code",
      "source": [
        "a_dot_z = A.dot(np.zeros(A.shape))\n",
        "a_dot_z"
      ],
      "metadata": {
        "id": "IMy9b5xTKhIH",
        "colab": {
          "base_uri": "https://localhost:8080/"
        },
        "outputId": "0f4d2bb9-6e23-4cc2-c4f5-b21854b8eacd"
      },
      "execution_count": 47,
      "outputs": [
        {
          "output_type": "execute_result",
          "data": {
            "text/plain": [
              "array([[0., 0., 0.],\n",
              "       [0., 0., 0.],\n",
              "       [0., 0., 0.]])"
            ]
          },
          "metadata": {},
          "execution_count": 47
        }
      ]
    },
    {
      "cell_type": "code",
      "source": [
        "np.array_equal(a_dot_z,z_mat)"
      ],
      "metadata": {
        "id": "VvSHASWDKphs",
        "colab": {
          "base_uri": "https://localhost:8080/"
        },
        "outputId": "096a1bb2-d9c0-40dc-ba75-1823020dee85"
      },
      "execution_count": 48,
      "outputs": [
        {
          "output_type": "execute_result",
          "data": {
            "text/plain": [
              "True"
            ]
          },
          "metadata": {},
          "execution_count": 48
        }
      ]
    },
    {
      "cell_type": "code",
      "source": [
        "null_mat = np.empty(A.shape, dtype=float)\n",
        "null = np.array(null_mat,dtype=float)\n",
        "print(null)\n",
        "np.allclose(a_dot_z,null)"
      ],
      "metadata": {
        "id": "O7bfuzG-KrRE",
        "colab": {
          "base_uri": "https://localhost:8080/"
        },
        "outputId": "79d5a6d5-bc91-4e11-95ea-ddf8ec67007c"
      },
      "execution_count": 49,
      "outputs": [
        {
          "output_type": "stream",
          "name": "stdout",
          "text": [
            "[[0. 0. 0.]\n",
            " [0. 0. 0.]\n",
            " [0. 0. 0.]]\n"
          ]
        },
        {
          "output_type": "execute_result",
          "data": {
            "text/plain": [
              "True"
            ]
          },
          "metadata": {},
          "execution_count": 49
        }
      ]
    },
    {
      "cell_type": "markdown",
      "source": [
        "## Determinant"
      ],
      "metadata": {
        "id": "eixn6myhLVP4"
      }
    },
    {
      "cell_type": "markdown",
      "source": [
        "A determinant is a scalar value derived from a square matrix. The determinant is a fundamental and important value used in matrix algebra. Although it will not be evident in this laboratory on how it can be used practically, but it will be reatly used in future lessons.\n",
        "\n",
        "The determinant of some matrix $C$ is denoted as $det(C)$ or $|C|$. So let's say $C$ is represented as:\n",
        "$$C = \\begin{bmatrix}c_{(0,0)}&c_{(0,1)}\\\\c_{(1,0)}&c_{(1,1)}\\end{bmatrix}$$\n",
        "We can compute for the determinant as:\n",
        "$$|C| = c_{(0,0)}*c_{(1,1)} - c_{(1,0)}*c_{(0,1)}$$\n",
        "So if we have $A$ as:\n",
        "$$C = \\begin{bmatrix}1&4\\\\0&3\\end{bmatrix}, |C| = 3$$\n",
        "\n",
        "But you might wonder how about square matrices beyond the shape $(2,2)$? We can approach this problem by using several methods such as co-factor expansion and the minors method. This can be taught in the lecture of the laboratory but we can achieve the strenuous computation of high-dimensional matrices programmatically using Python. We can achieve this by using `np.linalg.det()`."
      ],
      "metadata": {
        "id": "Wf-tX8KNLawt"
      }
    },
    {
      "cell_type": "code",
      "source": [
        "C = np.array([\n",
        "    [1,2],\n",
        "    [1,3]\n",
        "])\n",
        "np.linalg.det(C)"
      ],
      "metadata": {
        "colab": {
          "base_uri": "https://localhost:8080/"
        },
        "id": "vS8aawWDMOFO",
        "outputId": "4f4dc259-4a18-4d2f-f1f8-bad0c7ee05fc"
      },
      "execution_count": 50,
      "outputs": [
        {
          "output_type": "execute_result",
          "data": {
            "text/plain": [
              "1.0"
            ]
          },
          "metadata": {},
          "execution_count": 50
        }
      ]
    },
    {
      "cell_type": "code",
      "source": [
        "D = np.array([\n",
        "    [1,3,3],\n",
        "    [2,1,3],\n",
        "    [2,2,1]\n",
        "])\n",
        "np.linalg.det(D)"
      ],
      "metadata": {
        "colab": {
          "base_uri": "https://localhost:8080/"
        },
        "id": "CkGom5bZMVyv",
        "outputId": "b989c4eb-3a04-4de6-e936-3cafaf56c5d0"
      },
      "execution_count": 51,
      "outputs": [
        {
          "output_type": "execute_result",
          "data": {
            "text/plain": [
              "13.0"
            ]
          },
          "metadata": {},
          "execution_count": 51
        }
      ]
    },
    {
      "cell_type": "markdown",
      "source": [
        "## Inverse"
      ],
      "metadata": {
        "id": "WXjRJB04ODen"
      }
    },
    {
      "cell_type": "markdown",
      "source": [
        "The inverse of a matrix is another fundamental operation in matrix algebra. Determining the inverse of a matrix let us determine if its solvability and its characteristic as a system of linear equation — we'll expand on this in the nect module. Another use of the inverse matrix is solving the problem of divisibility between matrices. Although element-wise division exists but dividing the entire concept of matrices does not exists. Inverse matrices provides a related operation that could have the same concept of \"dividing\" matrices.\n",
        "\n",
        "Now to determine the inverse of a matrix we need to perform several steps. So let's say we have a matrix $M$:\n",
        "$$M = \\begin{bmatrix}1&7\\\\-3&5\\end{bmatrix}$$\n",
        "First, we need to get the determinant of $M$.\n",
        "$$|M| = (1)(5)-(-3)(7) = 26$$\n",
        "Next, we need to reform the matrix into the inverse form:\n",
        "$$M^{-1} = \\frac{1}{|M|} \\begin{bmatrix} m_{(1,1)} & -m_{(0,1)} \\\\ -m_{(1,0)} & m_{(0,0)}\\end{bmatrix}$$\n",
        "So that will be:\n",
        "$$M^{-1} = \\frac{1}{26} \\begin{bmatrix} 5 & -7 \\\\ 3 & 1\\end{bmatrix} = \\begin{bmatrix} \\frac{5}{26} & \\frac{-7}{26} \\\\ \\frac{3}{26} & \\frac{1}{26}\\end{bmatrix}$$\n",
        "For higher-dimension matrices you might need to use co-factors, minors, adjugates, and other reduction techinques. To solve this programmatially we can use `np.linalg.inv()`."
      ],
      "metadata": {
        "id": "_rTxk3-6OFG_"
      }
    },
    {
      "cell_type": "code",
      "source": [
        "M = np.array([\n",
        "    [1,7],\n",
        "    [-3,5]\n",
        "])\n",
        "\n",
        "np.array(M @ np.linalg.inv(M), dtype=int)"
      ],
      "metadata": {
        "colab": {
          "base_uri": "https://localhost:8080/"
        },
        "id": "wl2LtYzBOP2f",
        "outputId": "fd254547-c057-43f1-a814-41a2bf1d0872"
      },
      "execution_count": 52,
      "outputs": [
        {
          "output_type": "execute_result",
          "data": {
            "text/plain": [
              "array([[1, 0],\n",
              "       [0, 1]])"
            ]
          },
          "metadata": {},
          "execution_count": 52
        }
      ]
    },
    {
      "cell_type": "code",
      "source": [
        "P = np.array([\n",
        "  [6, 9, 0],\n",
        "  [4, 2, -1],\n",
        "  [3, 6, 7]\n",
        "])\n",
        "Q = np.linalg.inv(P)\n",
        "Q"
      ],
      "metadata": {
        "colab": {
          "base_uri": "https://localhost:8080/"
        },
        "id": "yMm_D8XoOu3s",
        "outputId": "8815fbed-10af-4656-ead3-43e139d8ff50"
      },
      "execution_count": 53,
      "outputs": [
        {
          "output_type": "execute_result",
          "data": {
            "text/plain": [
              "array([[-0.12578616,  0.39622642,  0.05660377],\n",
              "       [ 0.19496855, -0.26415094, -0.03773585],\n",
              "       [-0.11320755,  0.05660377,  0.1509434 ]])"
            ]
          },
          "metadata": {},
          "execution_count": 53
        }
      ]
    },
    {
      "cell_type": "code",
      "source": [
        "P @ Q"
      ],
      "metadata": {
        "colab": {
          "base_uri": "https://localhost:8080/"
        },
        "id": "tr1kIsCmP28V",
        "outputId": "760e3b83-d71b-4dbd-dc2c-8dc05d4449e3"
      },
      "execution_count": 54,
      "outputs": [
        {
          "output_type": "execute_result",
          "data": {
            "text/plain": [
              "array([[ 1.00000000e+00, -5.55111512e-17, -6.93889390e-18],\n",
              "       [ 8.32667268e-17,  1.00000000e+00, -2.77555756e-17],\n",
              "       [ 2.77555756e-17, -1.38777878e-17,  1.00000000e+00]])"
            ]
          },
          "metadata": {},
          "execution_count": 54
        }
      ]
    },
    {
      "cell_type": "markdown",
      "source": [
        "## Activity"
      ],
      "metadata": {
        "id": "y1JfhyA4L1zy"
      }
    },
    {
      "cell_type": "markdown",
      "source": [
        "### Task 1"
      ],
      "metadata": {
        "id": "AVe-O17pL3OQ"
      }
    },
    {
      "cell_type": "markdown",
      "source": [
        "Prove and implement the remaining 6 matrix multiplication properties. You may create your own matrices in which their shapes should not be lower than $(3,3)$.\n",
        "In your methodology, create individual flowcharts for each property and discuss the property you would then present your proofs or validity of your implementation in the results section by comparing your result to present functions from NumPy."
      ],
      "metadata": {
        "id": "leKk-1R8L7Sg"
      }
    },
    {
      "cell_type": "markdown",
      "source": [
        " 1. $A \\cdot B \\neq B \\cdot A$\n",
        " 2. $A \\cdot (B \\cdot C) = (A \\cdot B) \\cdot C$\n",
        " 3. $A\\cdot(B+C) = A\\cdot B + A\\cdot C$\n",
        " 4. $(B+C)\\cdot A = B\\cdot A + C\\cdot A$\n",
        " 5. $A\\cdot I = A$\n",
        " 6. $A\\cdot \\emptyset = \\emptyset$ "
      ],
      "metadata": {
        "id": "RzZJSvQBB4uL"
      }
    },
    {
      "cell_type": "markdown",
      "source": [
        "$A \\cdot B \\neq B \\cdot A$\n",
        "\n",
        "$$A = \\begin{bmatrix}1&2&3&4\\\\3&3&1&2\\\\2&1&3&1\\\\ 1&2&3&5 \\\\ 1&3&4&2\\end{bmatrix}  B = \\begin{bmatrix}1&3&1&2&6\\\\2&1&1&3&4\\\\1&1&2&3&4\\\\ 3&5&3&7&2 \\end{bmatrix}$$"
      ],
      "metadata": {
        "id": "T54TT0mSCBDS"
      }
    },
    {
      "cell_type": "code",
      "source": [
        "A = np.array([\n",
        "    [1,2,3,4],\n",
        "    [3,3,1,2],\n",
        "    [2,1,3,1],\n",
        "    [1,2,3,5],\n",
        "    [1,3,4,2]\n",
        "])\n",
        "\n",
        "y = len(A)\n",
        "print(\"Number of rows in Matrix A : \", y)\n",
        "\n",
        "B = np.array([\n",
        "    [1,3,1,2,6],\n",
        "    [2,1,1,3,4],\n",
        "    [1,1,2,3,4],\n",
        "    [3,5,3,7,2]\n",
        "])\n",
        "\n",
        "z = len(B[0])\n",
        "print(\"Number of columns in Matrix B: \", z)\n",
        "\n",
        "if y == z:\n",
        "  print ('A·B :')\n",
        "  print(A@B)\n",
        "else:\n",
        "  print(\"Not Viable for Operation\")"
      ],
      "metadata": {
        "id": "m2Sevc-vFBre",
        "colab": {
          "base_uri": "https://localhost:8080/"
        },
        "outputId": "7a26f108-9b9e-490f-9368-a673455e640d"
      },
      "execution_count": 55,
      "outputs": [
        {
          "output_type": "stream",
          "name": "stdout",
          "text": [
            "Number of rows in Matrix A :  5\n",
            "Number of columns in Matrix B:  5\n",
            "A·B :\n",
            "[[20 28 21 45 34]\n",
            " [16 23 14 32 38]\n",
            " [10 15 12 23 30]\n",
            " [23 33 24 52 36]\n",
            " [17 20 18 37 38]]\n"
          ]
        }
      ]
    },
    {
      "cell_type": "code",
      "source": [
        "print ('B·A :')\n",
        "B @ A"
      ],
      "metadata": {
        "colab": {
          "base_uri": "https://localhost:8080/"
        },
        "id": "f1zIiOAPGrLV",
        "outputId": "02d0adbe-d4d5-41bc-e568-076d07337586"
      },
      "execution_count": 56,
      "outputs": [
        {
          "output_type": "stream",
          "name": "stdout",
          "text": [
            "B·A :\n"
          ]
        },
        {
          "output_type": "execute_result",
          "data": {
            "text/plain": [
              "array([[20, 34, 39, 33],\n",
              "       [14, 26, 35, 34],\n",
              "       [15, 25, 35, 31],\n",
              "       [33, 44, 52, 64]])"
            ]
          },
          "metadata": {},
          "execution_count": 56
        }
      ]
    },
    {
      "cell_type": "code",
      "source": [
        "np.array_equal(A @ B,B @ A)"
      ],
      "metadata": {
        "colab": {
          "base_uri": "https://localhost:8080/"
        },
        "id": "GAwn-PUYIA9X",
        "outputId": "de6b9ba3-f844-47c7-9ff2-25d6add4979e"
      },
      "execution_count": 57,
      "outputs": [
        {
          "output_type": "execute_result",
          "data": {
            "text/plain": [
              "False"
            ]
          },
          "metadata": {},
          "execution_count": 57
        }
      ]
    },
    {
      "cell_type": "markdown",
      "source": [
        "$A \\cdot (B \\cdot C) = (A \\cdot B) \\cdot C$\n",
        "\n",
        "$$A = \\begin{bmatrix}11&9&5&13\\\\7&7&5&4\\\\10&8&6&11\\\\ 14&2&20&5 \\end{bmatrix}  B = \\begin{bmatrix}1&4&11&2&8\\\\21&2&7&6&13\\\\8&1&5&10&4\\\\ 14&5&3&7&2 \\end{bmatrix} C= \\begin{bmatrix}16&3&2&8\\\\3&9&5&13\\\\2&8&10&4\\\\ 12&5&4&6\\\\6&2&6&7\\end{bmatrix}$$\n",
        "\n",
        "\n",
        "In this case, $A$ has a shape of $(4,4)$, $B$ has a shape of $(4,5)$ and $C$ has a shape of $(5,4)$. In the left side of equation, it is advisable to multiply the $B$ and $C$ first before proceeding to $A$. While on the right side of equation, $A$ and $B$ are the first to be multiplied before proceeding to $C$."
      ],
      "metadata": {
        "id": "37CNjWjqHVop"
      }
    },
    {
      "cell_type": "code",
      "source": [
        "A = np.array([\n",
        "    [11,9,5,13],\n",
        "    [7,7,5,4],\n",
        "    [10,8,6,11],\n",
        "    [14,2,20,5]\n",
        "])\n",
        "\n",
        "B = np.array([\n",
        "    [1,4,11,2,8],\n",
        "    [21,2,7,6,13],\n",
        "    [8,1,5,10,4],\n",
        "    [14,5,3,7,2]\n",
        "])\n",
        "\n",
        "C = np.array([\n",
        "    [16,3,2,8],\n",
        "    [3,9,5,13],\n",
        "    [2,8,10,4],\n",
        "    [12,5,4,6],\n",
        "    [6,2,6,7]\n",
        "])"
      ],
      "metadata": {
        "id": "p7g-bHUeJzPl"
      },
      "execution_count": 58,
      "outputs": []
    },
    {
      "cell_type": "code",
      "source": [
        "print ('A·(B·C) :')\n",
        "A @ (B@C)"
      ],
      "metadata": {
        "colab": {
          "base_uri": "https://localhost:8080/"
        },
        "id": "QecKqU4MK_rn",
        "outputId": "235ad08c-1f93-4cea-ea1d-56fbfc5d06c1"
      },
      "execution_count": 59,
      "outputs": [
        {
          "output_type": "stream",
          "name": "stdout",
          "text": [
            "A·(B·C) :\n"
          ]
        },
        {
          "output_type": "execute_result",
          "data": {
            "text/plain": [
              "array([[11754,  6025,  6358,  9143],\n",
              "       [ 7185,  3677,  4051,  5552],\n",
              "       [10729,  5510,  5835,  8317],\n",
              "       [10125,  5898,  6395,  8031]])"
            ]
          },
          "metadata": {},
          "execution_count": 59
        }
      ]
    },
    {
      "cell_type": "code",
      "source": [
        "print ('(A·B)·C :')\n",
        "(A@B) @ C"
      ],
      "metadata": {
        "colab": {
          "base_uri": "https://localhost:8080/"
        },
        "id": "ZelcDHY7Ku82",
        "outputId": "0009c2ce-a465-4607-d58b-9e6210dfc9c3"
      },
      "execution_count": 60,
      "outputs": [
        {
          "output_type": "stream",
          "name": "stdout",
          "text": [
            "(A·B)·C :\n"
          ]
        },
        {
          "output_type": "execute_result",
          "data": {
            "text/plain": [
              "array([[11754,  6025,  6358,  9143],\n",
              "       [ 7185,  3677,  4051,  5552],\n",
              "       [10729,  5510,  5835,  8317],\n",
              "       [10125,  5898,  6395,  8031]])"
            ]
          },
          "metadata": {},
          "execution_count": 60
        }
      ]
    },
    {
      "cell_type": "code",
      "source": [
        "np.array_equal(A @ (B@C),(A@B) @ C)"
      ],
      "metadata": {
        "colab": {
          "base_uri": "https://localhost:8080/"
        },
        "id": "1lY2CUsoMfG5",
        "outputId": "81dd8b77-0a19-4d5e-81e6-a34e2197625a"
      },
      "execution_count": 61,
      "outputs": [
        {
          "output_type": "execute_result",
          "data": {
            "text/plain": [
              "True"
            ]
          },
          "metadata": {},
          "execution_count": 61
        }
      ]
    },
    {
      "cell_type": "markdown",
      "source": [
        "$A\\cdot(B+C) = A\\cdot B + A\\cdot C$\n",
        "\n",
        "$$A = \\begin{bmatrix}10&2&8&9&3\\\\3&4&16&2&21\\\\7&11&4&13&4\\\\ 10&2&4&9&1\\end{bmatrix}  B = \\begin{bmatrix}1&7&21&2&6\\\\20&1&9&3&5\\\\11&1&12&3&7\\\\ 3&15&9&7&8 \\\\ 14&1&2&3&3\\end{bmatrix} \\\\C= \\begin{bmatrix}9&13&2&8&5\\\\3&2&15&3&21\\\\20&2&2&14&4\\\\ 11&5&4&6&13 \\\\ 9&2&7&14&6\\end{bmatrix}$$\n",
        "\n",
        "In this given, $A$ has a shape of $(4,5)$, $B$ has a shape of $(5,5)$ and $C$ has a shape of $(5,5)$. In the left side of equation, the $B$ and $C$ are added first since they have a same shape, before multiplying to $A$. While on the right side of equation, $A$ is multiplied by both $B$ and $C$, then add."
      ],
      "metadata": {
        "id": "vf1n5RV2OGFB"
      }
    },
    {
      "cell_type": "code",
      "source": [
        "A = np.array([\n",
        "    [10,2,8,9,3],\n",
        "    [3,4,16,2,21],\n",
        "    [7,11,4,13,4],\n",
        "    [10,2,4,9,1]\n",
        "])\n",
        "\n",
        "B = np.array([\n",
        "    [1,7,21,2,6],\n",
        "    [20,1,9,3,5],\n",
        "    [11,1,12,3,7],\n",
        "    [3,15,9,7,8],\n",
        "    [14,1,2,3,3]\n",
        "])\n",
        "\n",
        "C = np.array([\n",
        "    [9,13,2,8,5],\n",
        "    [3,2,15,3,21],\n",
        "    [20,2,2,14,4],\n",
        "    [11,5,4,6,13],\n",
        "    [9,2,7,14,6]\n",
        "])"
      ],
      "metadata": {
        "id": "uLl7bCZdyaiW"
      },
      "execution_count": 62,
      "outputs": []
    },
    {
      "cell_type": "code",
      "source": [
        "print ('A·(B+C) :')\n",
        "A @ (B+C)"
      ],
      "metadata": {
        "colab": {
          "base_uri": "https://localhost:8080/"
        },
        "id": "DhrEqVTOOM3m",
        "outputId": "c4fdccda-a550-4c87-c40f-b67d74957427"
      },
      "execution_count": 63,
      "outputs": [
        {
          "output_type": "stream",
          "name": "stdout",
          "text": [
            "A·(B+C) :\n"
          ]
        },
        {
          "output_type": "execute_result",
          "data": {
            "text/plain": [
              "array([[ 589,  419,  534,  416,  466],\n",
              "       [1129,  223,  604,  709,  544],\n",
              "       [ 721,  457,  686,  441,  716],\n",
              "       [ 419,  401,  460,  314,  404]])"
            ]
          },
          "metadata": {},
          "execution_count": 63
        }
      ]
    },
    {
      "cell_type": "code",
      "source": [
        "print ('(A·B)+(A·C) :')\n",
        "(A@B) + (A@C)"
      ],
      "metadata": {
        "colab": {
          "base_uri": "https://localhost:8080/"
        },
        "id": "MN6nFtgoOVsY",
        "outputId": "487d8d90-c0e6-4523-d2cc-904ee0a479f7"
      },
      "execution_count": 64,
      "outputs": [
        {
          "output_type": "stream",
          "name": "stdout",
          "text": [
            "(A·B)+(A·C) :\n"
          ]
        },
        {
          "output_type": "execute_result",
          "data": {
            "text/plain": [
              "array([[ 589,  419,  534,  416,  466],\n",
              "       [1129,  223,  604,  709,  544],\n",
              "       [ 721,  457,  686,  441,  716],\n",
              "       [ 419,  401,  460,  314,  404]])"
            ]
          },
          "metadata": {},
          "execution_count": 64
        }
      ]
    },
    {
      "cell_type": "code",
      "source": [
        "np.array_equal(A @ (B+C),(A@B) + (A@C))"
      ],
      "metadata": {
        "colab": {
          "base_uri": "https://localhost:8080/"
        },
        "id": "OAIvmokVOnEu",
        "outputId": "a83be568-eaca-4c69-ad09-31071b2f9eab"
      },
      "execution_count": 65,
      "outputs": [
        {
          "output_type": "execute_result",
          "data": {
            "text/plain": [
              "True"
            ]
          },
          "metadata": {},
          "execution_count": 65
        }
      ]
    },
    {
      "cell_type": "markdown",
      "source": [
        "$(B+C)\\cdot A = B\\cdot A + C\\cdot A$\n",
        "\n",
        "$$A = \\begin{bmatrix}9&21&3&1&3&9\\\\13&2&8&2&16&2\\\\8&10&2&12&1&7\\\\ 8&12&8&4&7&5\\\\ 10&8&1&11&4&7 \\\\ 1&2&3&4&5&7\\ \\end{bmatrix}  B = \\begin{bmatrix}11&7&18&2&6&3\\\\21&2&9&4&5&3\\\\14&2&10&2&7&10\\\\ 4&13&8&4&8&13 \\\\ 10&4&8&4&13&7\\\\ 1&9&9&4&11&9\\end{bmatrix} \\\\C= \\begin{bmatrix}11&3&12&9&4&7\\\\5&12&10&4&8&7\\\\18&2&9&10&7&9\\\\ 10&5&7&9&10&1 \\\\ 10&4&8&11&3&7\\\\1&4&18&4&9&10\\end{bmatrix}$$\n",
        "\n",
        "For the 4th property, $A$ has a shape of $(6,6)$, $B$ has a shape of $(6,6)$ and $C$ has a shape of $(6,6)$. Same concept from the previous given is implimented."
      ],
      "metadata": {
        "id": "vuNurMK8woX6"
      }
    },
    {
      "cell_type": "code",
      "source": [
        "A = np.array([\n",
        "    [9,21,3,1,3,9],\n",
        "    [13,2,8,2,16,2],\n",
        "    [8,10,2,12,1,7],\n",
        "    [8,12,8,4,7,5],\n",
        "    [10,8,1,11,4,7],\n",
        "    [1,2,3,4,5,7]\n",
        "])\n",
        "\n",
        "B = np.array([\n",
        "    [11,7,18,2,6,3],\n",
        "    [21,2,9,4,5,3],\n",
        "    [14,2,10,2,7,10],\n",
        "    [4,13,8,4,8,13],\n",
        "    [10,4,8,4,13,7],\n",
        "    [1,9,9,4,11,9]\n",
        "])\n",
        "\n",
        "C = np.array([\n",
        "    [11,3,12,9,4,7],\n",
        "    [5,12,10,4,8,7],\n",
        "    [18,2,9,10,7,9],\n",
        "    [10,5,7,9,10,1],\n",
        "    [10,4,8,11,3,7],\n",
        "    [1,4,18,4,9,10]\n",
        "])"
      ],
      "metadata": {
        "id": "-uAkosdZzD3M"
      },
      "execution_count": 83,
      "outputs": []
    },
    {
      "cell_type": "code",
      "source": [
        "print ('(B+C)·A :')\n",
        "print((B+C) @ A)"
      ],
      "metadata": {
        "colab": {
          "base_uri": "https://localhost:8080/"
        },
        "id": "z5_gcrSzyFo1",
        "outputId": "9058f822-b071-4826-c14e-7f99ae5d9a3d"
      },
      "execution_count": 84,
      "outputs": [
        {
          "output_type": "stream",
          "name": "stdout",
          "text": [
            "(B+C)·A :\n",
            "[[ 766 1014  334  596  423  623]\n",
            " [ 772  984  335  497  479  596]\n",
            " [ 747 1164  333  546  414  720]\n",
            " [ 778  808  380  536  578  556]\n",
            " [ 706  932  334  520  443  593]\n",
            " [ 686  632  305  680  472  546]]\n"
          ]
        }
      ]
    },
    {
      "cell_type": "code",
      "source": [
        "print ('B·A + C·A')\n",
        "B @ A + C @ A"
      ],
      "metadata": {
        "colab": {
          "base_uri": "https://localhost:8080/"
        },
        "id": "M8tLux-Ezx6B",
        "outputId": "f25c86d8-a6ab-423d-be0c-28e852581798"
      },
      "execution_count": 85,
      "outputs": [
        {
          "output_type": "stream",
          "name": "stdout",
          "text": [
            "B·A + C·A\n"
          ]
        },
        {
          "output_type": "execute_result",
          "data": {
            "text/plain": [
              "array([[ 766, 1014,  334,  596,  423,  623],\n",
              "       [ 772,  984,  335,  497,  479,  596],\n",
              "       [ 747, 1164,  333,  546,  414,  720],\n",
              "       [ 778,  808,  380,  536,  578,  556],\n",
              "       [ 706,  932,  334,  520,  443,  593],\n",
              "       [ 686,  632,  305,  680,  472,  546]])"
            ]
          },
          "metadata": {},
          "execution_count": 85
        }
      ]
    },
    {
      "cell_type": "code",
      "source": [
        "np.array_equal((B+C) @ A, B @ A + C @ A)"
      ],
      "metadata": {
        "colab": {
          "base_uri": "https://localhost:8080/"
        },
        "id": "zefgEe9D0A7e",
        "outputId": "92b86a09-4164-456d-9f8c-9f5c73772459"
      },
      "execution_count": 86,
      "outputs": [
        {
          "output_type": "execute_result",
          "data": {
            "text/plain": [
              "True"
            ]
          },
          "metadata": {},
          "execution_count": 86
        }
      ]
    },
    {
      "cell_type": "markdown",
      "source": [
        "$A\\cdot I = A$\n",
        "\n",
        "$$A = \\begin{bmatrix}10&8&7&20&1\\\\4&9&11&7&10\\\\11&5&8&12&9\\\\ 8&20&3&4&1 \\end{bmatrix}  I = \\begin{bmatrix}1&0&0&0&0\\\\0&1&0&0&0\\\\0&0&1&0&0\\\\ 0&0&0&1&0\\\\ 0&0&0&0&1 \\end{bmatrix} $$\n",
        "\n",
        "The 5th property includes a multiplication of an identity matrix, $A$ has a shape of $(4,5)$ and the identity matrix has a shape of $(5,5$)."
      ],
      "metadata": {
        "id": "oO2u3ufVKDdg"
      }
    },
    {
      "cell_type": "code",
      "source": [
        "A = np.array([\n",
        "    [10,8,7,20,1],\n",
        "    [4,9,11,7,10],\n",
        "    [11,5,8,12,9],\n",
        "    [8,20,3,4,1]\n",
        "])\n",
        "\n",
        "I = np.array([\n",
        "    [1,0,0,0,0],\n",
        "    [0,1,0,0,0],\n",
        "    [0,0,1,0,0],\n",
        "    [0,0,0,1,0],\n",
        "    [0,0,0,0,1]\n",
        "])\n",
        "\n",
        "identity = np.identity(I.shape[0])\n",
        "if((identity == I).all()):\n",
        "    print('A @ I')\n",
        "    print(A @ I)\n",
        "else:\n",
        "    print('Result will not be equal to the values of the Multiplicand')"
      ],
      "metadata": {
        "id": "RqgklMlnKbZc",
        "colab": {
          "base_uri": "https://localhost:8080/"
        },
        "outputId": "eeedc921-8f20-48c8-b420-1d65368e1482"
      },
      "execution_count": 77,
      "outputs": [
        {
          "output_type": "stream",
          "name": "stdout",
          "text": [
            "A @ I\n",
            "[[10  8  7 20  1]\n",
            " [ 4  9 11  7 10]\n",
            " [11  5  8 12  9]\n",
            " [ 8 20  3  4  1]]\n"
          ]
        }
      ]
    },
    {
      "cell_type": "code",
      "source": [
        "np.array_equal(A,A @ I)"
      ],
      "metadata": {
        "colab": {
          "base_uri": "https://localhost:8080/"
        },
        "id": "C6edudfFT6SQ",
        "outputId": "ee8316dd-a549-42bd-e51e-7ff4073936b7"
      },
      "execution_count": 78,
      "outputs": [
        {
          "output_type": "execute_result",
          "data": {
            "text/plain": [
              "True"
            ]
          },
          "metadata": {},
          "execution_count": 78
        }
      ]
    },
    {
      "cell_type": "markdown",
      "source": [
        "$A\\cdot \\emptyset = \\emptyset$ \n",
        "\n",
        "$$A = \\begin{bmatrix}9&8&15&3\\\\10&6&2&8\\\\1&9&9&13\\\\ 6&8&11&4 \\end{bmatrix}  \\emptyset = \\begin{bmatrix}11&2&8&7&9\\\\20&1&3&6&6\\\\9&11&4&8&4\\\\ 3&5&13&7&8 \\end{bmatrix} $$\n",
        "\n",
        "For the last multiplication property, $A$ has a shape of $(4,4)$ and a matrix whose not a zero matrix has a shape of $(4,5)$."
      ],
      "metadata": {
        "id": "3BwGyhlcULfp"
      }
    },
    {
      "cell_type": "code",
      "source": [
        "A = np.array([\n",
        "    [9,8,15,3],\n",
        "    [10,6,2,8],\n",
        "    [1,9,9,13],\n",
        "    [6,8,11,4]\n",
        "])\n",
        "\n",
        "Ø = np.array([\n",
        "    [11,2,8,7,9],\n",
        "    [20,1,3,6,6],\n",
        "    [9,11,4,8,4],\n",
        "    [3,5,13,7,8]\n",
        "])\n",
        "\n",
        "zero = np.zeros(Ø.shape[1])\n",
        "if((zero == Ø).all()):\n",
        "    print('Result will become a Zero Matrix')\n",
        "else:\n",
        "    print('A · Ø')\n",
        "    print(A @ Ø)"
      ],
      "metadata": {
        "colab": {
          "base_uri": "https://localhost:8080/"
        },
        "id": "OIqBB_4hnBas",
        "outputId": "5fd79a80-1873-41a3-9e6a-b4e7883d43e7"
      },
      "execution_count": 79,
      "outputs": [
        {
          "output_type": "stream",
          "name": "stdout",
          "text": [
            "A · Ø\n",
            "[[403 206 195 252 213]\n",
            " [272  88 210 178 198]\n",
            " [311 175 240 224 203]\n",
            " [337 161 168 206 178]]\n"
          ]
        }
      ]
    },
    {
      "cell_type": "code",
      "source": [
        "prod = np.array([\n",
        "    [403,206,195,252,213],\n",
        "    [272,88,210,178,198],\n",
        "    [311,175,240,224,203],\n",
        "    [337,161,168,206,175]\n",
        "])\n",
        "\n",
        "\n",
        "is_all_zero = np.all((prod == 0))\n",
        "if is_all_zero:\n",
        "  print('Property denied')\n",
        "else:\n",
        "  print('Property accepted')"
      ],
      "metadata": {
        "colab": {
          "base_uri": "https://localhost:8080/"
        },
        "id": "gUWVnyEQ-HHU",
        "outputId": "2424a72f-6598-4814-9afe-d7d12bb9a5fd"
      },
      "execution_count": 80,
      "outputs": [
        {
          "output_type": "stream",
          "name": "stdout",
          "text": [
            "Property accepted\n"
          ]
        }
      ]
    }
  ]
}