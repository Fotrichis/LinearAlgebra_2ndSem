{
  "nbformat": 4,
  "nbformat_minor": 0,
  "metadata": {
    "colab": {
      "name": "Assignment 4.ipynb",
      "provenance": [],
      "collapsed_sections": [],
      "authorship_tag": "ABX9TyOOn+JNCYVi5BvhihHj7EPj",
      "include_colab_link": true
    },
    "kernelspec": {
      "name": "python3",
      "display_name": "Python 3"
    },
    "language_info": {
      "name": "python"
    }
  },
  "cells": [
    {
      "cell_type": "markdown",
      "metadata": {
        "id": "view-in-github",
        "colab_type": "text"
      },
      "source": [
        "<a href=\"https://colab.research.google.com/github/Fotrichis/LinearAlgebra_2ndSem/blob/main/Assignment_4.ipynb\" target=\"_parent\"><img src=\"https://colab.research.google.com/assets/colab-badge.svg\" alt=\"Open In Colab\"/></a>"
      ]
    },
    {
      "cell_type": "markdown",
      "source": [
        "# Linear Algebra\n",
        "## Laboratory 6 : Matrix Operations"
      ],
      "metadata": {
        "id": "s1Pju6bN8dEV"
      }
    },
    {
      "cell_type": "markdown",
      "source": [
        "### Objectives\n",
        "At the end of this activity you will be able to:\n",
        "1. Be familiar with the fundamental matrix operations.\n",
        "2. Apply the operations to solve intemrediate equations.\n",
        "3. Apply matrix algebra in engineering solutions."
      ],
      "metadata": {
        "id": "ZXrEDs1D8foG"
      }
    },
    {
      "cell_type": "markdown",
      "source": [
        "## Discussion"
      ],
      "metadata": {
        "id": "k4jECdlx8lm0"
      }
    },
    {
      "cell_type": "code",
      "source": [
        "import numpy as np\n",
        "import matplotlib.pyplot as plt\n",
        "%matplotlib inline\n"
      ],
      "metadata": {
        "id": "_81oPYbB8pc2"
      },
      "execution_count": null,
      "outputs": []
    },
    {
      "cell_type": "markdown",
      "source": [
        "## Transposition"
      ],
      "metadata": {
        "id": "YMgcY-sb8sis"
      }
    },
    {
      "cell_type": "markdown",
      "source": [
        "One of the fundamental operations in matrix algebra is Transposition. The transpose of a matrix is done by flipping the values of its elements over its diagonals. With this, the rows and columns from the original matrix will be switched. So for a matrix $A$ its transpose is denoted as $A^T$. So for example:"
      ],
      "metadata": {
        "id": "z-pyO8NvI-R_"
      }
    },
    {
      "cell_type": "markdown",
      "source": [
        "$$A = \\begin{bmatrix} 1 & 2 & 5\\\\5 & -1 &0 \\\\ 0 & -3 & 3\\end{bmatrix} $$"
      ],
      "metadata": {
        "id": "p3U3zO97JA7d"
      }
    },
    {
      "cell_type": "markdown",
      "source": [
        "$$ A^T = \\begin{bmatrix} 1 & 5 & 0\\\\2 & -1 &-3 \\\\ 5 & 0 & 3\\end{bmatrix}$$"
      ],
      "metadata": {
        "id": "fh1c6IeTJB3M"
      }
    },
    {
      "cell_type": "markdown",
      "source": [
        "This can now be achieved programmatically by using `np.transpose()` or using the `T` method.Description"
      ],
      "metadata": {
        "id": "VVTg0wpT88lM"
      }
    },
    {
      "cell_type": "code",
      "source": [
        "A = np.array([\n",
        "    [1, 2, 5],\n",
        "    [5, -1, 0],\n",
        "    [0, -3, 3]\n",
        "])\n",
        "A"
      ],
      "metadata": {
        "colab": {
          "base_uri": "https://localhost:8080/"
        },
        "id": "4f8IP_wv9qhQ",
        "outputId": "10f416ed-60d9-4f06-b45b-f73b3f3ae968"
      },
      "execution_count": null,
      "outputs": [
        {
          "output_type": "execute_result",
          "data": {
            "text/plain": [
              "array([[ 1,  2,  5],\n",
              "       [ 5, -1,  0],\n",
              "       [ 0, -3,  3]])"
            ]
          },
          "metadata": {},
          "execution_count": 3
        }
      ]
    },
    {
      "cell_type": "code",
      "source": [
        "AT1 = np.transpose(A)\n",
        "AT1"
      ],
      "metadata": {
        "colab": {
          "base_uri": "https://localhost:8080/"
        },
        "id": "6DTiyZP593cV",
        "outputId": "16853ddc-74d3-407b-f123-d2348ac0c577"
      },
      "execution_count": null,
      "outputs": [
        {
          "output_type": "execute_result",
          "data": {
            "text/plain": [
              "array([[ 1,  5,  0],\n",
              "       [ 2, -1, -3],\n",
              "       [ 5,  0,  3]])"
            ]
          },
          "metadata": {},
          "execution_count": 4
        }
      ]
    },
    {
      "cell_type": "code",
      "source": [
        "AT2 = A.T\n",
        "AT2"
      ],
      "metadata": {
        "colab": {
          "base_uri": "https://localhost:8080/"
        },
        "id": "VmY1jwpq-tS1",
        "outputId": "5c8daa00-6c80-4561-ec07-b4b5568f1ec0"
      },
      "execution_count": null,
      "outputs": [
        {
          "output_type": "execute_result",
          "data": {
            "text/plain": [
              "array([[ 1,  5,  0],\n",
              "       [ 2, -1, -3],\n",
              "       [ 5,  0,  3]])"
            ]
          },
          "metadata": {},
          "execution_count": 5
        }
      ]
    },
    {
      "cell_type": "code",
      "source": [
        "np.array_equiv(AT1, AT2)"
      ],
      "metadata": {
        "colab": {
          "base_uri": "https://localhost:8080/"
        },
        "id": "MD93sSTe-0th",
        "outputId": "e078bdf1-0a68-468d-84d0-ca9418b3c309"
      },
      "execution_count": null,
      "outputs": [
        {
          "output_type": "execute_result",
          "data": {
            "text/plain": [
              "True"
            ]
          },
          "metadata": {},
          "execution_count": 6
        }
      ]
    },
    {
      "cell_type": "code",
      "source": [
        "B = np.array([\n",
        "    [2, 3, 5, 7],\n",
        "    [5, 2, 1, 2],\n",
        "    [3, 1, 2, 1]\n",
        "])\n",
        "B.shape"
      ],
      "metadata": {
        "colab": {
          "base_uri": "https://localhost:8080/"
        },
        "id": "KdO0BEwK_C1Y",
        "outputId": "bf8f6308-f61b-4c1d-cfba-016ec0834d5e"
      },
      "execution_count": null,
      "outputs": [
        {
          "output_type": "execute_result",
          "data": {
            "text/plain": [
              "(3, 4)"
            ]
          },
          "metadata": {},
          "execution_count": 7
        }
      ]
    },
    {
      "cell_type": "code",
      "source": [
        "np.transpose(B).shape"
      ],
      "metadata": {
        "colab": {
          "base_uri": "https://localhost:8080/"
        },
        "id": "Bse0sw4X_v6y",
        "outputId": "b582d1fb-6b76-4b16-faf7-a04162e9975a"
      },
      "execution_count": null,
      "outputs": [
        {
          "output_type": "execute_result",
          "data": {
            "text/plain": [
              "(4, 3)"
            ]
          },
          "metadata": {},
          "execution_count": 8
        }
      ]
    },
    {
      "cell_type": "code",
      "source": [
        "B.T.shape"
      ],
      "metadata": {
        "colab": {
          "base_uri": "https://localhost:8080/"
        },
        "id": "jwst3EpO_zwU",
        "outputId": "18afed65-d779-4129-8a75-d6cc5b6738f7"
      },
      "execution_count": null,
      "outputs": [
        {
          "output_type": "execute_result",
          "data": {
            "text/plain": [
              "(4, 3)"
            ]
          },
          "metadata": {},
          "execution_count": 9
        }
      ]
    },
    {
      "cell_type": "markdown",
      "source": [
        "Own Matrix Transposition"
      ],
      "metadata": {
        "id": "4UB0PQyMpMDp"
      }
    },
    {
      "cell_type": "code",
      "source": [
        "A = np.array([\n",
        "    [5,3,6],\n",
        "    [1,0,3],\n",
        "    [1,6,1],\n",
        "    [2,1,3],\n",
        "])\n",
        "A.shape"
      ],
      "metadata": {
        "colab": {
          "base_uri": "https://localhost:8080/"
        },
        "id": "ChhQ8WLwpPU3",
        "outputId": "c36430ad-b1d4-4922-9d17-338a857e3ba0"
      },
      "execution_count": null,
      "outputs": [
        {
          "output_type": "execute_result",
          "data": {
            "text/plain": [
              "(4, 3)"
            ]
          },
          "metadata": {},
          "execution_count": 2
        }
      ]
    },
    {
      "cell_type": "code",
      "source": [
        "np.transpose(A).shape"
      ],
      "metadata": {
        "colab": {
          "base_uri": "https://localhost:8080/"
        },
        "id": "b2i7KEoNpZvG",
        "outputId": "65be7e15-ee4a-4c9e-fe15-0e5f542978f7"
      },
      "execution_count": null,
      "outputs": [
        {
          "output_type": "execute_result",
          "data": {
            "text/plain": [
              "(3, 4)"
            ]
          },
          "metadata": {},
          "execution_count": 3
        }
      ]
    },
    {
      "cell_type": "code",
      "source": [
        "AT = A.T\n",
        "AT"
      ],
      "metadata": {
        "colab": {
          "base_uri": "https://localhost:8080/"
        },
        "id": "xXfWz3FxpdWr",
        "outputId": "cbf344fd-e924-4b24-92c0-36353b4c2478"
      },
      "execution_count": null,
      "outputs": [
        {
          "output_type": "execute_result",
          "data": {
            "text/plain": [
              "array([[5, 1, 1, 2],\n",
              "       [3, 0, 6, 1],\n",
              "       [6, 3, 1, 3]])"
            ]
          },
          "metadata": {},
          "execution_count": 4
        }
      ]
    },
    {
      "cell_type": "markdown",
      "source": [
        "## Dot Product / Inner Product"
      ],
      "metadata": {
        "id": "qcn2g93ZAXe8"
      }
    },
    {
      "cell_type": "markdown",
      "source": [
        "If you recall the dot product from laboratory activity before, we will try to implement the same operation with matrices. In matrix dot product we are going to get the sum of products of the vectors by row-column pairs. So if we have two matrices $X$ and $Y$:\n",
        "\n",
        "$$X = \\begin{bmatrix}x_{(0,0)}&x_{(0,1)}\\\\ x_{(1,0)}&x_{(1,1)}\\end{bmatrix}, Y = \\begin{bmatrix}y_{(0,0)}&y_{(0,1)}\\\\ y_{(1,0)}&y_{(1,1)}\\end{bmatrix}$$\n",
        "\n",
        "The dot product will then be computed as:\n",
        "$$X \\cdot Y= \\begin{bmatrix} x_{(0,0)}*y_{(0,0)} + x_{(0,1)}*y_{(1,0)} & x_{(0,0)}*y_{(0,1)} + x_{(0,1)}*y_{(1,1)} \\\\  x_{(1,0)}*y_{(0,0)} + x_{(1,1)}*y_{(1,0)} & x_{(1,0)}*y_{(0,1)} + x_{(1,1)}*y_{(1,1)}\n",
        "\\end{bmatrix}$$\n",
        "\n",
        "So if we assign values to $X$ and $Y$:\n",
        "$$X = \\begin{bmatrix}1&2\\\\ 0&1\\end{bmatrix}, Y = \\begin{bmatrix}-1&0\\\\ 2&2\\end{bmatrix}$$"
      ],
      "metadata": {
        "id": "48fNgVGeJRA5"
      }
    },
    {
      "cell_type": "markdown",
      "source": [
        "$$X \\cdot Y= \\begin{bmatrix} 1*-1 + 2*2 & 1*0 + 2*2 \\\\  0*-1 + 1*2 & 0*0 + 1*2 \\end{bmatrix} = \\begin{bmatrix} 3 & 4 \\\\2 & 2 \\end{bmatrix}$$\n",
        "This could be achieved programmatically using `np.dot()`, `np.matmul()` or the `@` operator."
      ],
      "metadata": {
        "id": "tlFBGLt4JZxG"
      }
    },
    {
      "cell_type": "code",
      "source": [
        "X = np.array([\n",
        "    [1, 2, 3],\n",
        "    [0, 1, 2],\n",
        "    [1, 3, 2]\n",
        "])\n",
        "Y = np.array([\n",
        "    [3, 2, 1],\n",
        "    [2, 1, 0],\n",
        "    [2, 3, 1]\n",
        "])"
      ],
      "metadata": {
        "id": "fVLjHi38A1nc"
      },
      "execution_count": null,
      "outputs": []
    },
    {
      "cell_type": "code",
      "source": [
        "np.dot(X,Y)"
      ],
      "metadata": {
        "colab": {
          "base_uri": "https://localhost:8080/"
        },
        "id": "I1xxf0QICENj",
        "outputId": "91fafead-2024-4e21-fd03-5494bdebd1df"
      },
      "execution_count": null,
      "outputs": [
        {
          "output_type": "execute_result",
          "data": {
            "text/plain": [
              "array([[13, 13,  4],\n",
              "       [ 6,  7,  2],\n",
              "       [13, 11,  3]])"
            ]
          },
          "metadata": {},
          "execution_count": 11
        }
      ]
    },
    {
      "cell_type": "code",
      "source": [
        "X.dot(Y)"
      ],
      "metadata": {
        "colab": {
          "base_uri": "https://localhost:8080/"
        },
        "id": "Gli_wYzeCHhw",
        "outputId": "2f81bba1-94d5-45a5-df82-32b46b661630"
      },
      "execution_count": null,
      "outputs": [
        {
          "output_type": "execute_result",
          "data": {
            "text/plain": [
              "array([[13, 13,  4],\n",
              "       [ 6,  7,  2],\n",
              "       [13, 11,  3]])"
            ]
          },
          "metadata": {},
          "execution_count": 12
        }
      ]
    },
    {
      "cell_type": "code",
      "source": [
        "X @ Y"
      ],
      "metadata": {
        "colab": {
          "base_uri": "https://localhost:8080/"
        },
        "id": "qNZqEA3LCLtb",
        "outputId": "e2de4502-c5bb-4dad-928e-c44d01f45359"
      },
      "execution_count": null,
      "outputs": [
        {
          "output_type": "execute_result",
          "data": {
            "text/plain": [
              "array([[13, 13,  4],\n",
              "       [ 6,  7,  2],\n",
              "       [13, 11,  3]])"
            ]
          },
          "metadata": {},
          "execution_count": 13
        }
      ]
    },
    {
      "cell_type": "code",
      "source": [
        "np.matmul(X,Y)"
      ],
      "metadata": {
        "colab": {
          "base_uri": "https://localhost:8080/"
        },
        "id": "cZ65jKftCOVd",
        "outputId": "b1db8e91-7a52-4541-8e8c-04cd6bf625b2"
      },
      "execution_count": null,
      "outputs": [
        {
          "output_type": "execute_result",
          "data": {
            "text/plain": [
              "array([[13, 13,  4],\n",
              "       [ 6,  7,  2],\n",
              "       [13, 11,  3]])"
            ]
          },
          "metadata": {},
          "execution_count": 14
        }
      ]
    },
    {
      "cell_type": "code",
      "source": [
        "A = np.array([\n",
        "    [2,1,3],\n",
        "    [1,1,1],\n",
        "    [2,3,3]\n",
        "])\n",
        "B = np.array([\n",
        "    [3,3,1],\n",
        "    [1,1,1],\n",
        "    [2,1,4]\n",
        "])"
      ],
      "metadata": {
        "id": "y2rVrBMapqS4"
      },
      "execution_count": null,
      "outputs": []
    },
    {
      "cell_type": "code",
      "source": [
        "A @ B"
      ],
      "metadata": {
        "colab": {
          "base_uri": "https://localhost:8080/"
        },
        "id": "PyrUoIfIp8U6",
        "outputId": "c5fe95a6-3287-4976-e02e-8714506118b7"
      },
      "execution_count": null,
      "outputs": [
        {
          "output_type": "execute_result",
          "data": {
            "text/plain": [
              "array([[13, 10, 15],\n",
              "       [ 6,  5,  6],\n",
              "       [15, 12, 17]])"
            ]
          },
          "metadata": {},
          "execution_count": 6
        }
      ]
    },
    {
      "cell_type": "code",
      "source": [
        "A.dot(B)"
      ],
      "metadata": {
        "colab": {
          "base_uri": "https://localhost:8080/"
        },
        "id": "lrqulSX7p9uW",
        "outputId": "c2b29ba8-02ec-43c0-b69a-fb8010de6c76"
      },
      "execution_count": null,
      "outputs": [
        {
          "output_type": "execute_result",
          "data": {
            "text/plain": [
              "array([[13, 10, 15],\n",
              "       [ 6,  5,  6],\n",
              "       [15, 12, 17]])"
            ]
          },
          "metadata": {},
          "execution_count": 7
        }
      ]
    },
    {
      "cell_type": "code",
      "source": [
        "np.matmul(A,B)"
      ],
      "metadata": {
        "colab": {
          "base_uri": "https://localhost:8080/"
        },
        "id": "gYl_Fv6NqBm2",
        "outputId": "b90648e0-6b22-439d-8642-78276e837287"
      },
      "execution_count": null,
      "outputs": [
        {
          "output_type": "execute_result",
          "data": {
            "text/plain": [
              "array([[13, 10, 15],\n",
              "       [ 6,  5,  6],\n",
              "       [15, 12, 17]])"
            ]
          },
          "metadata": {},
          "execution_count": 8
        }
      ]
    },
    {
      "cell_type": "code",
      "source": [
        "np.dot(A,B)"
      ],
      "metadata": {
        "colab": {
          "base_uri": "https://localhost:8080/"
        },
        "id": "_zJMEt3lqEgP",
        "outputId": "14df4955-6cff-4745-933e-5d526729693f"
      },
      "execution_count": null,
      "outputs": [
        {
          "output_type": "execute_result",
          "data": {
            "text/plain": [
              "array([[13, 10, 15],\n",
              "       [ 6,  5,  6],\n",
              "       [15, 12, 17]])"
            ]
          },
          "metadata": {},
          "execution_count": 9
        }
      ]
    },
    {
      "cell_type": "markdown",
      "source": [
        "In matrix dot products there are additional rules compared with vector dot products. Since vector dot products were just in one dimension there are less restrictions. Since now we are dealing with Rank 2 vectors we need to consider some rules:"
      ],
      "metadata": {
        "id": "WSRwXoqgJxFk"
      }
    },
    {
      "cell_type": "markdown",
      "source": [
        "## Rule 1: The inner dimensions of the two matrices in question must be the same.\n",
        "\n",
        "So given a matrix $A$ with a shape of $(a,b)$ where $a$ and $b$ are any integers. If we want to do a dot product between $A$ and another matrix $B$, then matrix $B$ should have a shape of $(b,c)$ where $b$ and $c$ are any integers. So for given the following matrices:\n",
        "\n",
        "$$E = \\begin{bmatrix}1&2&3\\\\3&3&1\\\\2&1&3\\end{bmatrix}, F = \\begin{bmatrix}1&3&1\\\\2&1&1\\\\1&1&2\\\\2&2&1\\end{bmatrix}, G = \\begin{bmatrix}2&2&3\\\\1&2&2\\\\2&1&3\\end{bmatrix}$$\n",
        "\n",
        "So in this case $A$ has a shape of $(3,2)$, $B$ has a shape of $(3,2)$ and $C$ has a shape of $(2,3)$. So the only matrix pairs that is eligible to perform dot product is matrices $A \\cdot C$, or $B \\cdot C$.  "
      ],
      "metadata": {
        "id": "MSU_a9WYCy4d"
      }
    },
    {
      "cell_type": "code",
      "source": [
        "E = np.array([\n",
        "    [1, 2, 3],\n",
        "    [3, 3, 1],\n",
        "    [2, 1, 3]\n",
        "])\n",
        "F = np.array([\n",
        "    [1, 3, 1],\n",
        "    [2, 1, 1],\n",
        "    [1, 1, 2],\n",
        "    [2, 2, 1]\n",
        "])\n",
        "G = np.array([\n",
        "    [2, 2, 3],\n",
        "    [1, 2, 2],\n",
        "    [2, 1, 3]  \n",
        "])\n",
        "print(E.shape)\n",
        "print(F.shape)\n",
        "print(G.shape)"
      ],
      "metadata": {
        "colab": {
          "base_uri": "https://localhost:8080/"
        },
        "id": "ITjRvIobC_NN",
        "outputId": "099e1d20-2b68-473e-b5f5-3a35d1f35063"
      },
      "execution_count": null,
      "outputs": [
        {
          "output_type": "stream",
          "name": "stdout",
          "text": [
            "(3, 3)\n",
            "(4, 3)\n",
            "(3, 3)\n"
          ]
        }
      ]
    },
    {
      "cell_type": "code",
      "source": [
        "E @ G"
      ],
      "metadata": {
        "colab": {
          "base_uri": "https://localhost:8080/"
        },
        "id": "Q2CNsxNZFO_L",
        "outputId": "49833570-a1ca-46e7-c0c6-f05c326f59c3"
      },
      "execution_count": null,
      "outputs": [
        {
          "output_type": "execute_result",
          "data": {
            "text/plain": [
              "array([[10,  9, 16],\n",
              "       [11, 13, 18],\n",
              "       [11,  9, 17]])"
            ]
          },
          "metadata": {},
          "execution_count": 18
        }
      ]
    },
    {
      "cell_type": "code",
      "source": [
        "F @ G"
      ],
      "metadata": {
        "colab": {
          "base_uri": "https://localhost:8080/"
        },
        "id": "RlrjObE-FpAB",
        "outputId": "283cf061-e69d-48d5-dee1-11de6fb1b33c"
      },
      "execution_count": null,
      "outputs": [
        {
          "output_type": "execute_result",
          "data": {
            "text/plain": [
              "array([[ 7,  9, 12],\n",
              "       [ 7,  7, 11],\n",
              "       [ 7,  6, 11],\n",
              "       [ 8,  9, 13]])"
            ]
          },
          "metadata": {},
          "execution_count": 19
        }
      ]
    },
    {
      "cell_type": "code",
      "source": [
        "E @ F.T"
      ],
      "metadata": {
        "colab": {
          "base_uri": "https://localhost:8080/"
        },
        "id": "RwlL2rJMrr0u",
        "outputId": "0e9bcee7-fea9-4d88-d101-5ad4b2f63e5e"
      },
      "execution_count": null,
      "outputs": [
        {
          "output_type": "execute_result",
          "data": {
            "text/plain": [
              "array([[10,  7,  9,  9],\n",
              "       [13, 10,  8, 13],\n",
              "       [ 8,  8,  9,  9]])"
            ]
          },
          "metadata": {},
          "execution_count": 12
        }
      ]
    },
    {
      "cell_type": "code",
      "source": [
        "H = np.array([\n",
        "    [1,2,3,4]\n",
        "])\n",
        "I = np.array([\n",
        "    [1,3,4,1]\n",
        "])\n",
        "print (H.shape)\n",
        "print (I.shape)"
      ],
      "metadata": {
        "colab": {
          "base_uri": "https://localhost:8080/"
        },
        "id": "sK-lORnor2B1",
        "outputId": "a48841b6-6fd2-4e25-bad3-7b025c894b0a"
      },
      "execution_count": null,
      "outputs": [
        {
          "output_type": "stream",
          "name": "stdout",
          "text": [
            "(1, 4)\n",
            "(1, 4)\n"
          ]
        }
      ]
    },
    {
      "cell_type": "code",
      "source": [
        "I.T @ H"
      ],
      "metadata": {
        "colab": {
          "base_uri": "https://localhost:8080/"
        },
        "id": "BDSLqMIEsInC",
        "outputId": "7becb3c6-6a69-4155-b9db-7e545a6ba558"
      },
      "execution_count": null,
      "outputs": [
        {
          "output_type": "execute_result",
          "data": {
            "text/plain": [
              "array([[ 1,  2,  3,  4],\n",
              "       [ 3,  6,  9, 12],\n",
              "       [ 4,  8, 12, 16],\n",
              "       [ 1,  2,  3,  4]])"
            ]
          },
          "metadata": {},
          "execution_count": 14
        }
      ]
    },
    {
      "cell_type": "code",
      "source": [
        "H @ I.T"
      ],
      "metadata": {
        "colab": {
          "base_uri": "https://localhost:8080/"
        },
        "id": "X_sh0P7UsMas",
        "outputId": "945eb82c-4ae1-4c46-c89b-f017c16751a6"
      },
      "execution_count": null,
      "outputs": [
        {
          "output_type": "execute_result",
          "data": {
            "text/plain": [
              "array([[23]])"
            ]
          },
          "metadata": {},
          "execution_count": 15
        }
      ]
    },
    {
      "cell_type": "markdown",
      "source": [
        "### Rule 2: Dot Product has special properties\n",
        "\n",
        "Dot products are prevalent in matrix algebra, this implies that it has several unique properties and it should be considered when formulation solutions:\n",
        " 1. $A \\cdot B \\neq B \\cdot A$\n",
        " 2. $A \\cdot (B \\cdot C) = (A \\cdot B) \\cdot C$\n",
        " 3. $A\\cdot(B+C) = A\\cdot B + A\\cdot C$\n",
        " 4. $(B+C)\\cdot A = B\\cdot A + C\\cdot A$\n",
        " 5. $A\\cdot I = A$\n",
        " 6. $A\\cdot \\emptyset = \\emptyset$ "
      ],
      "metadata": {
        "id": "j6NTsxqRGaii"
      }
    },
    {
      "cell_type": "code",
      "source": [
        "A = np.array([\n",
        "    [3,2,1],\n",
        "    [4,5,1],\n",
        "    [1,1,0]\n",
        "])\n",
        "B = np.array([\n",
        "    [4,1,6],\n",
        "    [4,1,9],\n",
        "    [1,4,8]\n",
        "])\n",
        "C = np.array([\n",
        "    [1,1,0],\n",
        "    [0,1,1],\n",
        "    [1,0,1]\n",
        "])"
      ],
      "metadata": {
        "id": "GRRrFWZWGf_7"
      },
      "execution_count": null,
      "outputs": []
    },
    {
      "cell_type": "code",
      "source": [
        "A.dot(np.zeros(A.shape))"
      ],
      "metadata": {
        "id": "Rl6ZMgjQKdQJ",
        "colab": {
          "base_uri": "https://localhost:8080/"
        },
        "outputId": "99a56acf-f54a-4567-b5f6-b7d0b2e92cff"
      },
      "execution_count": null,
      "outputs": [
        {
          "output_type": "execute_result",
          "data": {
            "text/plain": [
              "array([[0., 0., 0.],\n",
              "       [0., 0., 0.],\n",
              "       [0., 0., 0.]])"
            ]
          },
          "metadata": {},
          "execution_count": 9
        }
      ]
    },
    {
      "cell_type": "code",
      "source": [
        "z_mat = np.zeros(A.shape)\n",
        "z_mat"
      ],
      "metadata": {
        "id": "Fvw-xyxTKfa_",
        "colab": {
          "base_uri": "https://localhost:8080/"
        },
        "outputId": "89924fad-7df2-4daa-9057-a4fa09620114"
      },
      "execution_count": null,
      "outputs": [
        {
          "output_type": "execute_result",
          "data": {
            "text/plain": [
              "array([[0., 0., 0.],\n",
              "       [0., 0., 0.],\n",
              "       [0., 0., 0.]])"
            ]
          },
          "metadata": {},
          "execution_count": 10
        }
      ]
    },
    {
      "cell_type": "code",
      "source": [
        "a_dot_z = A.dot(np.zeros(A.shape))\n",
        "a_dot_z"
      ],
      "metadata": {
        "id": "IMy9b5xTKhIH",
        "colab": {
          "base_uri": "https://localhost:8080/"
        },
        "outputId": "840b9afa-81cf-4f47-a94a-bfce694b1b0f"
      },
      "execution_count": null,
      "outputs": [
        {
          "output_type": "execute_result",
          "data": {
            "text/plain": [
              "array([[0., 0., 0.],\n",
              "       [0., 0., 0.],\n",
              "       [0., 0., 0.]])"
            ]
          },
          "metadata": {},
          "execution_count": 11
        }
      ]
    },
    {
      "cell_type": "code",
      "source": [
        "np.array_equal(a_dot_z,z_mat)"
      ],
      "metadata": {
        "id": "VvSHASWDKphs",
        "colab": {
          "base_uri": "https://localhost:8080/"
        },
        "outputId": "08f04e15-dc19-4a22-b757-1919aa672c46"
      },
      "execution_count": null,
      "outputs": [
        {
          "output_type": "execute_result",
          "data": {
            "text/plain": [
              "True"
            ]
          },
          "metadata": {},
          "execution_count": 12
        }
      ]
    },
    {
      "cell_type": "code",
      "source": [
        "null_mat = np.empty(A.shape, dtype=float)\n",
        "null = np.array(null_mat,dtype=float)\n",
        "print(null)\n",
        "np.allclose(a_dot_z,null)"
      ],
      "metadata": {
        "id": "O7bfuzG-KrRE",
        "colab": {
          "base_uri": "https://localhost:8080/"
        },
        "outputId": "0c20c18d-0587-48ee-9fed-578d61791703"
      },
      "execution_count": null,
      "outputs": [
        {
          "output_type": "stream",
          "name": "stdout",
          "text": [
            "[[0. 0. 0.]\n",
            " [0. 0. 0.]\n",
            " [0. 0. 0.]]\n"
          ]
        },
        {
          "output_type": "execute_result",
          "data": {
            "text/plain": [
              "True"
            ]
          },
          "metadata": {},
          "execution_count": 13
        }
      ]
    },
    {
      "cell_type": "markdown",
      "source": [
        "## Determinant"
      ],
      "metadata": {
        "id": "eixn6myhLVP4"
      }
    },
    {
      "cell_type": "markdown",
      "source": [
        "A determinant is a scalar value derived from a square matrix. The determinant is a fundamental and important value used in matrix algebra. Although it will not be evident in this laboratory on how it can be used practically, but it will be reatly used in future lessons.\n",
        "\n",
        "The determinant of some matrix $C$ is denoted as $det(C)$ or $|C|$. So let's say $C$ is represented as:\n",
        "$$C = \\begin{bmatrix}c_{(0,0)}&c_{(0,1)}\\\\c_{(1,0)}&c_{(1,1)}\\end{bmatrix}$$\n",
        "We can compute for the determinant as:\n",
        "$$|C| = c_{(0,0)}*c_{(1,1)} - c_{(1,0)}*c_{(0,1)}$$\n",
        "So if we have $A$ as:\n",
        "$$C = \\begin{bmatrix}1&4\\\\0&3\\end{bmatrix}, |C| = 3$$\n",
        "\n",
        "But you might wonder how about square matrices beyond the shape $(2,2)$? We can approach this problem by using several methods such as co-factor expansion and the minors method. This can be taught in the lecture of the laboratory but we can achieve the strenuous computation of high-dimensional matrices programmatically using Python. We can achieve this by using `np.linalg.det()`."
      ],
      "metadata": {
        "id": "Wf-tX8KNLawt"
      }
    },
    {
      "cell_type": "code",
      "source": [
        "C = np.array([\n",
        "    [1,2],\n",
        "    [1,3]\n",
        "])\n",
        "np.linalg.det(C)"
      ],
      "metadata": {
        "colab": {
          "base_uri": "https://localhost:8080/"
        },
        "id": "vS8aawWDMOFO",
        "outputId": "c53d61ca-c40c-4541-8fbd-790206ca8264"
      },
      "execution_count": null,
      "outputs": [
        {
          "output_type": "execute_result",
          "data": {
            "text/plain": [
              "1.0"
            ]
          },
          "metadata": {},
          "execution_count": 21
        }
      ]
    },
    {
      "cell_type": "code",
      "source": [
        "D = np.array([\n",
        "    [1,3,3],\n",
        "    [2,1,3],\n",
        "    [2,2,1]\n",
        "])\n",
        "np.linalg.det(D)"
      ],
      "metadata": {
        "colab": {
          "base_uri": "https://localhost:8080/"
        },
        "id": "CkGom5bZMVyv",
        "outputId": "7246f9c2-d16f-4344-fd47-9cd22c501bcf"
      },
      "execution_count": null,
      "outputs": [
        {
          "output_type": "execute_result",
          "data": {
            "text/plain": [
              "13.0"
            ]
          },
          "metadata": {},
          "execution_count": 25
        }
      ]
    },
    {
      "cell_type": "markdown",
      "source": [
        "## Inverse"
      ],
      "metadata": {
        "id": "WXjRJB04ODen"
      }
    },
    {
      "cell_type": "markdown",
      "source": [
        "The inverse of a matrix is another fundamental operation in matrix algebra. Determining the inverse of a matrix let us determine if its solvability and its characteristic as a system of linear equation — we'll expand on this in the nect module. Another use of the inverse matrix is solving the problem of divisibility between matrices. Although element-wise division exists but dividing the entire concept of matrices does not exists. Inverse matrices provides a related operation that could have the same concept of \"dividing\" matrices.\n",
        "\n",
        "Now to determine the inverse of a matrix we need to perform several steps. So let's say we have a matrix $M$:\n",
        "$$M = \\begin{bmatrix}1&7\\\\-3&5\\end{bmatrix}$$\n",
        "First, we need to get the determinant of $M$.\n",
        "$$|M| = (1)(5)-(-3)(7) = 26$$\n",
        "Next, we need to reform the matrix into the inverse form:\n",
        "$$M^{-1} = \\frac{1}{|M|} \\begin{bmatrix} m_{(1,1)} & -m_{(0,1)} \\\\ -m_{(1,0)} & m_{(0,0)}\\end{bmatrix}$$\n",
        "So that will be:\n",
        "$$M^{-1} = \\frac{1}{26} \\begin{bmatrix} 5 & -7 \\\\ 3 & 1\\end{bmatrix} = \\begin{bmatrix} \\frac{5}{26} & \\frac{-7}{26} \\\\ \\frac{3}{26} & \\frac{1}{26}\\end{bmatrix}$$\n",
        "For higher-dimension matrices you might need to use co-factors, minors, adjugates, and other reduction techinques. To solve this programmatially we can use `np.linalg.inv()`."
      ],
      "metadata": {
        "id": "_rTxk3-6OFG_"
      }
    },
    {
      "cell_type": "code",
      "source": [
        "M = np.array([\n",
        "    [1,7],\n",
        "    [-3,5]\n",
        "])\n",
        "\n",
        "np.array(M @ np.linalg.inv(M), dtype=int)"
      ],
      "metadata": {
        "colab": {
          "base_uri": "https://localhost:8080/"
        },
        "id": "wl2LtYzBOP2f",
        "outputId": "b954dd82-bb0a-4c9e-b21f-5b12f2941b5c"
      },
      "execution_count": null,
      "outputs": [
        {
          "output_type": "execute_result",
          "data": {
            "text/plain": [
              "array([[1, 0],\n",
              "       [0, 1]])"
            ]
          },
          "metadata": {},
          "execution_count": 26
        }
      ]
    },
    {
      "cell_type": "code",
      "source": [
        "P = np.array([\n",
        "  [6, 9, 0],\n",
        "  [4, 2, -1],\n",
        "  [3, 6, 7]\n",
        "])\n",
        "Q = np.linalg.inv(P)\n",
        "Q"
      ],
      "metadata": {
        "colab": {
          "base_uri": "https://localhost:8080/"
        },
        "id": "yMm_D8XoOu3s",
        "outputId": "24823036-1f00-40f4-a79c-4b2047c0b2f6"
      },
      "execution_count": null,
      "outputs": [
        {
          "output_type": "execute_result",
          "data": {
            "text/plain": [
              "array([[-0.12578616,  0.39622642,  0.05660377],\n",
              "       [ 0.19496855, -0.26415094, -0.03773585],\n",
              "       [-0.11320755,  0.05660377,  0.1509434 ]])"
            ]
          },
          "metadata": {},
          "execution_count": 27
        }
      ]
    },
    {
      "cell_type": "code",
      "source": [
        "P @ Q"
      ],
      "metadata": {
        "colab": {
          "base_uri": "https://localhost:8080/"
        },
        "id": "tr1kIsCmP28V",
        "outputId": "17fe7d5b-2f58-462b-cbd4-935dfafa9cb4"
      },
      "execution_count": null,
      "outputs": [
        {
          "output_type": "execute_result",
          "data": {
            "text/plain": [
              "array([[ 1.00000000e+00, -5.55111512e-17, -6.93889390e-18],\n",
              "       [ 8.32667268e-17,  1.00000000e+00, -2.77555756e-17],\n",
              "       [ 2.77555756e-17, -1.38777878e-17,  1.00000000e+00]])"
            ]
          },
          "metadata": {},
          "execution_count": 28
        }
      ]
    },
    {
      "cell_type": "markdown",
      "source": [
        "## Activity"
      ],
      "metadata": {
        "id": "y1JfhyA4L1zy"
      }
    },
    {
      "cell_type": "markdown",
      "source": [
        "### Task 1"
      ],
      "metadata": {
        "id": "AVe-O17pL3OQ"
      }
    },
    {
      "cell_type": "markdown",
      "source": [
        "Prove and implement the remaining 6 matrix multiplication properties. You may create your own matrices in which their shapes should not be lower than $(3,3)$.\n",
        "In your methodology, create individual flowcharts for each property and discuss the property you would then present your proofs or validity of your implementation in the results section by comparing your result to present functions from NumPy."
      ],
      "metadata": {
        "id": "leKk-1R8L7Sg"
      }
    },
    {
      "cell_type": "markdown",
      "source": [
        " 1. $A \\cdot B \\neq B \\cdot A$\n",
        " 2. $A \\cdot (B \\cdot C) = (A \\cdot B) \\cdot C$\n",
        " 3. $A\\cdot(B+C) = A\\cdot B + A\\cdot C$\n",
        " 4. $(B+C)\\cdot A = B\\cdot A + C\\cdot A$\n",
        " 5. $A\\cdot I = A$\n",
        " 6. $A\\cdot \\emptyset = \\emptyset$ "
      ],
      "metadata": {
        "id": "RzZJSvQBB4uL"
      }
    },
    {
      "cell_type": "markdown",
      "source": [
        "$A \\cdot B \\neq B \\cdot A$\n",
        "\n",
        "$$A = \\begin{bmatrix}1&2&3&4\\\\3&3&1&2\\\\2&1&3&1\\\\ 1&2&3&5 \\\\ 1&3&4&2\\end{bmatrix}  B = \\begin{bmatrix}1&3&1&2&6\\\\2&1&1&3&4\\\\1&1&2&3&4\\\\ 3&5&3&7&2 \\end{bmatrix}$$"
      ],
      "metadata": {
        "id": "T54TT0mSCBDS"
      }
    },
    {
      "cell_type": "code",
      "source": [
        "A = np.array([\n",
        "    [1,2,3,4],\n",
        "    [3,3,1,2],\n",
        "    [2,1,3,1],\n",
        "    [1,2,3,5],\n",
        "    [1,3,4,2]\n",
        "])\n",
        "\n",
        "y = len(A)\n",
        "print(\"Number of rows in Matrix A : \", y)\n",
        "\n",
        "B = np.array([\n",
        "    [1,3,1,2,6],\n",
        "    [2,1,1,3,4],\n",
        "    [1,1,2,3,4],\n",
        "    [3,5,3,7,2]\n",
        "])\n",
        "\n",
        "z = len(B[0])\n",
        "print(\"Number of columns in Matrix B: \", z)\n",
        "\n",
        "if y == z:\n",
        "  print ('A·B :')\n",
        "  print(A@B)\n",
        "else:\n",
        "  print(\"Not Viable for Operation\")"
      ],
      "metadata": {
        "id": "m2Sevc-vFBre",
        "colab": {
          "base_uri": "https://localhost:8080/"
        },
        "outputId": "f2d3223b-a41f-4dba-f663-199b6bcf6418"
      },
      "execution_count": null,
      "outputs": [
        {
          "output_type": "stream",
          "name": "stdout",
          "text": [
            "Number of rows in Matrix A :  5\n",
            "Number of columns in Matrix B:  5\n",
            "A·B :\n",
            "[[20 28 21 45 34]\n",
            " [16 23 14 32 38]\n",
            " [10 15 12 23 30]\n",
            " [23 33 24 52 36]\n",
            " [17 20 18 37 38]]\n"
          ]
        }
      ]
    },
    {
      "cell_type": "code",
      "source": [
        "print ('B·A :')\n",
        "B @ A"
      ],
      "metadata": {
        "colab": {
          "base_uri": "https://localhost:8080/"
        },
        "id": "f1zIiOAPGrLV",
        "outputId": "419d29a1-8d2b-45a2-f622-fdde0812c2eb"
      },
      "execution_count": null,
      "outputs": [
        {
          "output_type": "stream",
          "name": "stdout",
          "text": [
            "B·A :\n"
          ]
        },
        {
          "output_type": "execute_result",
          "data": {
            "text/plain": [
              "array([[20, 34, 39, 33],\n",
              "       [14, 26, 35, 34],\n",
              "       [15, 25, 35, 31],\n",
              "       [33, 44, 52, 64]])"
            ]
          },
          "metadata": {},
          "execution_count": 50
        }
      ]
    },
    {
      "cell_type": "code",
      "source": [
        "np.array_equal(A @ B,B @ A)"
      ],
      "metadata": {
        "colab": {
          "base_uri": "https://localhost:8080/"
        },
        "id": "GAwn-PUYIA9X",
        "outputId": "b57f2bef-5a91-4be2-95f8-e5d5a78b2d15"
      },
      "execution_count": null,
      "outputs": [
        {
          "output_type": "execute_result",
          "data": {
            "text/plain": [
              "False"
            ]
          },
          "metadata": {},
          "execution_count": 51
        }
      ]
    },
    {
      "cell_type": "markdown",
      "source": [
        "$A \\cdot (B \\cdot C) = (A \\cdot B) \\cdot C$\n",
        "\n",
        "$$A = \\begin{bmatrix}11&9&5&13\\\\7&7&5&4\\\\10&8&6&11\\\\ 14&2&20&5 \\end{bmatrix}  B = \\begin{bmatrix}1&4&11&2&8\\\\21&2&7&6&13\\\\8&1&5&10&4\\\\ 14&5&3&7&2 \\end{bmatrix} C= \\begin{bmatrix}16&3&2&8\\\\3&9&5&13\\\\2&8&10&4\\\\ 12&5&4&6\\\\6&2&6&7\\end{bmatrix}$$\n",
        "\n",
        "\n",
        "In this case, $A$ has a shape of $(4,4)$, $B$ has a shape of $(4,5)$ and $C$ has a shape of $(5,4)$. In the left side of equation, it is advisable to multiply the $B$ and $C$ first before proceeding to $A$. While on the right side of equation, $A$ and $B$ are the first to be multiplied before proceeding to $C$."
      ],
      "metadata": {
        "id": "37CNjWjqHVop"
      }
    },
    {
      "cell_type": "code",
      "source": [
        "A = np.array([\n",
        "    [11,9,5,13],\n",
        "    [7,7,5,4],\n",
        "    [10,8,6,11],\n",
        "    [14,2,20,5]\n",
        "])\n",
        "\n",
        "B = np.array([\n",
        "    [1,4,11,2,8],\n",
        "    [21,2,7,6,13],\n",
        "    [8,1,5,10,4],\n",
        "    [14,5,3,7,2]\n",
        "])\n",
        "\n",
        "C = np.array([\n",
        "    [16,3,2,8],\n",
        "    [3,9,5,13],\n",
        "    [2,8,10,4],\n",
        "    [12,5,4,6],\n",
        "    [6,2,6,7]\n",
        "])"
      ],
      "metadata": {
        "id": "p7g-bHUeJzPl"
      },
      "execution_count": null,
      "outputs": []
    },
    {
      "cell_type": "code",
      "source": [
        "print ('A·(B·C) :')\n",
        "A @ (B@C)"
      ],
      "metadata": {
        "colab": {
          "base_uri": "https://localhost:8080/"
        },
        "id": "QecKqU4MK_rn",
        "outputId": "2315c009-a8ca-4852-e7ad-c34f049dba0a"
      },
      "execution_count": null,
      "outputs": [
        {
          "output_type": "stream",
          "name": "stdout",
          "text": [
            "A·(B·C) :\n"
          ]
        },
        {
          "output_type": "execute_result",
          "data": {
            "text/plain": [
              "array([[11754,  6025,  6358,  9143],\n",
              "       [ 7185,  3677,  4051,  5552],\n",
              "       [10729,  5510,  5835,  8317],\n",
              "       [10125,  5898,  6395,  8031]])"
            ]
          },
          "metadata": {},
          "execution_count": 3
        }
      ]
    },
    {
      "cell_type": "code",
      "source": [
        "print ('(A·B)·C :')\n",
        "(A@B) @ C"
      ],
      "metadata": {
        "colab": {
          "base_uri": "https://localhost:8080/"
        },
        "id": "ZelcDHY7Ku82",
        "outputId": "7981e718-e2b1-496d-c606-0cf163606d22"
      },
      "execution_count": null,
      "outputs": [
        {
          "output_type": "stream",
          "name": "stdout",
          "text": [
            "(A·B)·C :\n"
          ]
        },
        {
          "output_type": "execute_result",
          "data": {
            "text/plain": [
              "array([[11754,  6025,  6358,  9143],\n",
              "       [ 7185,  3677,  4051,  5552],\n",
              "       [10729,  5510,  5835,  8317],\n",
              "       [10125,  5898,  6395,  8031]])"
            ]
          },
          "metadata": {},
          "execution_count": 4
        }
      ]
    },
    {
      "cell_type": "code",
      "source": [
        "np.array_equal(A @ (B@C),(A@B) @ C)"
      ],
      "metadata": {
        "colab": {
          "base_uri": "https://localhost:8080/"
        },
        "id": "1lY2CUsoMfG5",
        "outputId": "01aac349-4eaf-4fc5-c156-a73393d22969"
      },
      "execution_count": null,
      "outputs": [
        {
          "output_type": "execute_result",
          "data": {
            "text/plain": [
              "True"
            ]
          },
          "metadata": {},
          "execution_count": 5
        }
      ]
    },
    {
      "cell_type": "markdown",
      "source": [
        "$A\\cdot(B+C) = A\\cdot B + A\\cdot C$\n",
        "\n",
        "$$A = \\begin{bmatrix}10&2&8&9&3\\\\3&4&16&2&21\\\\7&11&4&13&4\\\\ 10&2&4&9&1\\end{bmatrix}  B = \\begin{bmatrix}1&7&21&2&6\\\\20&1&9&3&5\\\\11&1&12&3&7\\\\ 3&15&9&7&8 \\\\ 14&1&2&3&3\\end{bmatrix} \\\\C= \\begin{bmatrix}9&13&2&8&5\\\\3&2&15&3&21\\\\20&2&2&14&4\\\\ 11&5&4&6&13 \\\\ 9&2&7&14&6\\end{bmatrix}$$\n",
        "\n",
        "In this given, $A$ has a shape of $(4,5)$, $B$ has a shape of $(5,5)$ and $C$ has a shape of $(5,5)$. In the left side of equation, the $B$ and $C$ are added first since they have a same shape, before multiplying to $A$. While on the right side of equation, $A$ is multiplied by both $B$ and $C$, then add."
      ],
      "metadata": {
        "id": "vf1n5RV2OGFB"
      }
    },
    {
      "cell_type": "code",
      "source": [
        "A = np.array([\n",
        "    [10,2,8,9,3],\n",
        "    [3,4,16,2,21],\n",
        "    [7,11,4,13,4],\n",
        "    [10,2,4,9,1]\n",
        "])\n",
        "\n",
        "B = np.array([\n",
        "    [1,7,21,2,6],\n",
        "    [20,1,9,3,5],\n",
        "    [11,1,12,3,7],\n",
        "    [3,15,9,7,8],\n",
        "    [14,1,2,3,3]\n",
        "])\n",
        "\n",
        "C = np.array([\n",
        "    [9,13,2,8,5],\n",
        "    [3,2,15,3,21],\n",
        "    [20,2,2,14,4],\n",
        "    [11,5,4,6,13],\n",
        "    [9,2,7,14,6]\n",
        "])"
      ],
      "metadata": {
        "id": "uLl7bCZdyaiW"
      },
      "execution_count": null,
      "outputs": []
    },
    {
      "cell_type": "code",
      "source": [
        "print ('A·(B+C) :')\n",
        "A @ (B+C)"
      ],
      "metadata": {
        "colab": {
          "base_uri": "https://localhost:8080/"
        },
        "id": "DhrEqVTOOM3m",
        "outputId": "e5a6e994-7dbb-4691-a121-96493efe3440"
      },
      "execution_count": null,
      "outputs": [
        {
          "output_type": "stream",
          "name": "stdout",
          "text": [
            "A·(B+C) :\n"
          ]
        },
        {
          "output_type": "execute_result",
          "data": {
            "text/plain": [
              "array([[ 589,  419,  534,  416,  466],\n",
              "       [1129,  223,  604,  709,  544],\n",
              "       [ 721,  457,  686,  441,  716],\n",
              "       [ 419,  401,  460,  314,  404]])"
            ]
          },
          "metadata": {},
          "execution_count": 4
        }
      ]
    },
    {
      "cell_type": "code",
      "source": [
        "print ('(A·B)+(A·C) :')\n",
        "(A@B) + (A@C)"
      ],
      "metadata": {
        "colab": {
          "base_uri": "https://localhost:8080/"
        },
        "id": "MN6nFtgoOVsY",
        "outputId": "652428a1-39df-4314-eb7b-013c03e9cf4f"
      },
      "execution_count": null,
      "outputs": [
        {
          "output_type": "stream",
          "name": "stdout",
          "text": [
            "(A·B)+(A·C) :\n"
          ]
        },
        {
          "output_type": "execute_result",
          "data": {
            "text/plain": [
              "array([[ 589,  419,  534,  416,  466],\n",
              "       [1129,  223,  604,  709,  544],\n",
              "       [ 721,  457,  686,  441,  716],\n",
              "       [ 419,  401,  460,  314,  404]])"
            ]
          },
          "metadata": {},
          "execution_count": 5
        }
      ]
    },
    {
      "cell_type": "code",
      "source": [
        "np.array_equal(A @ (B+C),(A@B) + (A@C))"
      ],
      "metadata": {
        "colab": {
          "base_uri": "https://localhost:8080/"
        },
        "id": "OAIvmokVOnEu",
        "outputId": "efdf8956-e6b7-45e0-e42a-382923983fbf"
      },
      "execution_count": null,
      "outputs": [
        {
          "output_type": "execute_result",
          "data": {
            "text/plain": [
              "True"
            ]
          },
          "metadata": {},
          "execution_count": 6
        }
      ]
    },
    {
      "cell_type": "markdown",
      "source": [
        "$(B+C)\\cdot A = B\\cdot A + C\\cdot A$\n",
        "\n",
        "$$A = \\begin{bmatrix}9&21&3&1&3&9\\\\13&2&8&2&16&2\\\\8&10&2&12&1&7\\\\ 8&12&8&4&7&5\\\\ 10&8&1&11&4&7 \\end{bmatrix}  B = \\begin{bmatrix}11&7&18&2&6&3\\\\21&2&9&4&5&3\\\\14&2&10&2&7&10\\\\ 4&13&8&4&8&13 \\\\ 10&4&8&4&13&7\\\\ 1&9&9&4&11&9\\end{bmatrix} \\\\C= \\begin{bmatrix}11&3&12&9&4&7\\\\5&12&10&4&8&7\\\\18&2&9&10&7&9\\\\ 10&5&7&9&10&1 \\\\ 10&4&8&11&3&7\\\\1&4&18&4&9&10\\end{bmatrix}$$\n",
        "\n",
        "For the 4th property, $A$ has a shape of $(5,6)$, $B$ has a shape of $(6,6)$ and $C$ has a shape of $(6,6)$. Same concept from the previous given is implimented."
      ],
      "metadata": {
        "id": "vuNurMK8woX6"
      }
    },
    {
      "cell_type": "code",
      "source": [
        "A = np.array([\n",
        "    [9,21,3,1,3,9],\n",
        "    [13,2,8,2,16,2],\n",
        "    [8,10,2,12,1,7],\n",
        "    [8,12,8,4,7,5],\n",
        "    [10,8,1,11,4,7]\n",
        "])\n",
        "\n",
        "B = np.array([\n",
        "    [11,7,18,2,6,3],\n",
        "    [21,2,9,4,5,3],\n",
        "    [14,2,10,2,7,10],\n",
        "    [10,4,8,4,13,7],\n",
        "    [1,9,9,4,11,9]\n",
        "])\n",
        "\n",
        "C = np.array([\n",
        "    [11,3,12,9,4,7],\n",
        "    [5,12,10,4,8,7],\n",
        "    [18,2,9,10,7,9],\n",
        "    [10,5,7,9,10,1],\n",
        "    [10,4,8,11,3,7],\n",
        "    [1,4,18,4,9,10]\n",
        "])"
      ],
      "metadata": {
        "id": "-uAkosdZzD3M"
      },
      "execution_count": null,
      "outputs": []
    },
    {
      "cell_type": "code",
      "source": [
        "print ('(B+C)·A :')\n",
        "(B+C) @ A"
      ],
      "metadata": {
        "colab": {
          "base_uri": "https://localhost:8080/"
        },
        "id": "z5_gcrSzyFo1",
        "outputId": "a123326e-06f5-4456-bd78-603621e23cff"
      },
      "execution_count": null,
      "outputs": [
        {
          "output_type": "stream",
          "name": "stdout",
          "text": [
            "(B+C)·A :\n"
          ]
        },
        {
          "output_type": "execute_result",
          "data": {
            "text/plain": [
              "array([[ 65,  94, 104, 113,  74,  64],\n",
              "       [ 53,  68,  86,  96,  69,  50],\n",
              "       [ 59,  81,  95, 109,  66,  54],\n",
              "       [106, 126, 132, 178, 103,  70],\n",
              "       [ 88, 108, 121, 166,  95,  64],\n",
              "       [ 73, 104, 127, 135,  97,  78]])"
            ]
          },
          "metadata": {},
          "execution_count": 6
        }
      ]
    },
    {
      "cell_type": "code",
      "source": [
        "print ('B·A + C·A')\n",
        "B @ A + C @ A"
      ],
      "metadata": {
        "colab": {
          "base_uri": "https://localhost:8080/"
        },
        "id": "M8tLux-Ezx6B",
        "outputId": "b8576de9-eb80-4249-b2d0-9dd60df38e53"
      },
      "execution_count": null,
      "outputs": [
        {
          "output_type": "stream",
          "name": "stdout",
          "text": [
            "B·A + C·A\n"
          ]
        },
        {
          "output_type": "execute_result",
          "data": {
            "text/plain": [
              "array([[ 65,  94, 104, 113,  74,  64],\n",
              "       [ 53,  68,  86,  96,  69,  50],\n",
              "       [ 59,  81,  95, 109,  66,  54],\n",
              "       [106, 126, 132, 178, 103,  70],\n",
              "       [ 88, 108, 121, 166,  95,  64],\n",
              "       [ 73, 104, 127, 135,  97,  78]])"
            ]
          },
          "metadata": {},
          "execution_count": 7
        }
      ]
    },
    {
      "cell_type": "code",
      "source": [
        "np.array_equal((B+C) @ A, B @ A + C @ A)"
      ],
      "metadata": {
        "colab": {
          "base_uri": "https://localhost:8080/"
        },
        "id": "zefgEe9D0A7e",
        "outputId": "363256d4-5380-41af-8fa1-7137ad6af836"
      },
      "execution_count": null,
      "outputs": [
        {
          "output_type": "execute_result",
          "data": {
            "text/plain": [
              "True"
            ]
          },
          "metadata": {},
          "execution_count": 8
        }
      ]
    },
    {
      "cell_type": "markdown",
      "source": [
        "$A\\cdot I = A$\n",
        "\n",
        "$$A = \\begin{bmatrix}10&8&7&20&1\\\\4&9&11&7&10\\\\11&5&8&12&9\\\\ 8&20&3&4&1 \\end{bmatrix}  I = \\begin{bmatrix}1&0&0&0&0\\\\0&1&0&0&0\\\\0&0&1&0&0\\\\ 0&0&0&1&0\\\\ 0&0&0&0&1 \\end{bmatrix} $$\n",
        "\n",
        "The 5th property includes a multiplication of an identity matrix, $A$ has a shape of $(4,5)$ and the identity matrix has a shape of $(5,5$)."
      ],
      "metadata": {
        "id": "oO2u3ufVKDdg"
      }
    },
    {
      "cell_type": "code",
      "source": [
        "A = np.array([\n",
        "    [10,8,7,20,1],\n",
        "    [4,9,11,7,10],\n",
        "    [11,5,8,12,9],\n",
        "    [8,20,3,4,1]\n",
        "])\n",
        "\n",
        "I = np.array([\n",
        "    [1,0,0,0,0],\n",
        "    [0,1,0,0,0],\n",
        "    [0,0,1,0,0],\n",
        "    [0,0,0,1,0],\n",
        "    [0,0,0,0,1]\n",
        "])\n",
        "\n",
        "identity = np.identity(I.shape[0])\n",
        "if((identity == I).all()):\n",
        "    print('A @ I')\n",
        "    print(A @ I)\n",
        "else:\n",
        "    print('Result will not be equal to the values of the Multiplicand')"
      ],
      "metadata": {
        "id": "RqgklMlnKbZc",
        "colab": {
          "base_uri": "https://localhost:8080/"
        },
        "outputId": "86c13fdf-7e9f-4a12-ad3e-07b78dd43584"
      },
      "execution_count": null,
      "outputs": [
        {
          "output_type": "stream",
          "name": "stdout",
          "text": [
            "A @ I\n",
            "[[10  8  7 20  1]\n",
            " [ 4  9 11  7 10]\n",
            " [11  5  8 12  9]\n",
            " [ 8 20  3  4  1]]\n"
          ]
        }
      ]
    },
    {
      "cell_type": "code",
      "source": [
        "np.array_equal(A,A @ I)"
      ],
      "metadata": {
        "colab": {
          "base_uri": "https://localhost:8080/"
        },
        "id": "C6edudfFT6SQ",
        "outputId": "2afd2b47-5969-4316-b132-c2c508ee7477"
      },
      "execution_count": null,
      "outputs": [
        {
          "output_type": "execute_result",
          "data": {
            "text/plain": [
              "True"
            ]
          },
          "metadata": {},
          "execution_count": 13
        }
      ]
    },
    {
      "cell_type": "markdown",
      "source": [
        "$A\\cdot \\emptyset = \\emptyset$ \n",
        "\n",
        "$$A = \\begin{bmatrix}9&8&15&3\\\\10&6&2&8\\\\1&9&9&13\\\\ 6&8&11&4 \\end{bmatrix}  \\emptyset = \\begin{bmatrix}11&2&8&7&9\\\\20&1&3&6&6\\\\9&11&4&8&4\\\\ 3&5&13&7&8 \\end{bmatrix} $$\n",
        "\n",
        "For the last multiplication property, $A$ has a shape of $(4,4)$ and a matrix whose not a zero matrix has a shape of $(4,5)$."
      ],
      "metadata": {
        "id": "3BwGyhlcULfp"
      }
    },
    {
      "cell_type": "code",
      "source": [
        "A = np.array([\n",
        "    [9,8,15,3],\n",
        "    [10,6,2,8],\n",
        "    [1,9,9,13],\n",
        "    [6,8,11,4]\n",
        "])\n",
        "\n",
        "Ø = np.array([\n",
        "    [11,2,8,7,9],\n",
        "    [20,1,3,6,6],\n",
        "    [9,11,4,8,4],\n",
        "    [3,5,13,7,8]\n",
        "])\n",
        "\n",
        "zero = np.zeros(Ø.shape[1])\n",
        "if((zero == Ø).all()):\n",
        "    print('Result will become a Zero Matrix')\n",
        "else:\n",
        "    print('A · Ø')\n",
        "    print(A @ Ø)"
      ],
      "metadata": {
        "colab": {
          "base_uri": "https://localhost:8080/"
        },
        "id": "OIqBB_4hnBas",
        "outputId": "64c1a878-1325-4969-85de-7e7c014e1bfb"
      },
      "execution_count": null,
      "outputs": [
        {
          "output_type": "stream",
          "name": "stdout",
          "text": [
            "A · Ø\n",
            "[[403 206 195 252 213]\n",
            " [272  88 210 178 198]\n",
            " [311 175 240 224 203]\n",
            " [337 161 168 206 178]]\n"
          ]
        }
      ]
    },
    {
      "cell_type": "code",
      "source": [
        "prod = np.array([\n",
        "    [403,206,195,252,213],\n",
        "    [272,88,210,178,198],\n",
        "    [311,175,240,224,203],\n",
        "    [337,161,168,206,175]\n",
        "])\n",
        "\n",
        "\n",
        "is_all_zero = np.all((prod == 0))\n",
        "if is_all_zero:\n",
        "  print('Property denied')\n",
        "else:\n",
        "  print('Property accepted')"
      ],
      "metadata": {
        "colab": {
          "base_uri": "https://localhost:8080/"
        },
        "id": "gUWVnyEQ-HHU",
        "outputId": "3b7f6089-747c-46ea-ea6a-1abc7e713bd2"
      },
      "execution_count": null,
      "outputs": [
        {
          "output_type": "stream",
          "name": "stdout",
          "text": [
            "Property accepted\n"
          ]
        }
      ]
    }
  ]
}